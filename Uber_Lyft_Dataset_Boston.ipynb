{
  "nbformat": 4,
  "nbformat_minor": 0,
  "metadata": {
    "colab": {
      "provenance": [],
      "authorship_tag": "ABX9TyM/XxlLLIG6ov4ghiN0I91u",
      "include_colab_link": true
    },
    "kernelspec": {
      "name": "python3",
      "display_name": "Python 3"
    },
    "language_info": {
      "name": "python"
    }
  },
  "cells": [
    {
      "cell_type": "markdown",
      "metadata": {
        "id": "view-in-github",
        "colab_type": "text"
      },
      "source": [
        "<a href=\"https://colab.research.google.com/github/alishafique3/Uber_and_Lyft_Data_Analysis_and_Price_Prediction/blob/main/Uber_Lyft_Dataset_Boston.ipynb\" target=\"_parent\"><img src=\"https://colab.research.google.com/assets/colab-badge.svg\" alt=\"Open In Colab\"/></a>"
      ]
    },
    {
      "cell_type": "markdown",
      "source": [
        "# Problem Statement"
      ],
      "metadata": {
        "id": "RjmsANQopy0U"
      }
    },
    {
      "cell_type": "markdown",
      "source": [
        "In this project, the goal is to develop the inference model to predict the price of Uber and Lyft rides in the Boston MA.\n",
        "The dataset consists of almost 0.7 million examples with missing values.\n",
        "\n",
        "1. Problem type: supervised (regression)\n",
        "2. Target variable: price\n",
        "3. Features are related to distance, date, location, temperature, climate and sunset.\n",
        "\n",
        "Machine learning pipeline:\n",
        "1. Data import, wrangling and visualization.\n",
        "2. Data preparation and split.\n",
        "3. Models: Linear, Polynomial, ElasticNet and Neural network regression.\n",
        "4. Evaluation Metric: mean square error, root mean square error and $R^2$(coefficient of determination) score."
      ],
      "metadata": {
        "id": "GOePkILYpd_W"
      }
    },
    {
      "cell_type": "code",
      "execution_count": 1,
      "metadata": {
        "id": "T6gLOQg8EkcZ"
      },
      "outputs": [],
      "source": [
        "import pandas as pd\n",
        "import matplotlib.pyplot as plt\n",
        "import seaborn as sns\n",
        "import numpy as np\n",
        "from sklearn import datasets, linear_model\n",
        "from sklearn.linear_model import Ridge\n",
        "from sklearn.linear_model import Lasso\n",
        "from sklearn.linear_model import ElasticNet\n",
        "from sklearn.model_selection import train_test_split\n",
        "from sklearn.linear_model import LinearRegression\n",
        "from sklearn.metrics import mean_absolute_error,mean_squared_error,r2_score\n",
        "\n",
        "\n",
        "%matplotlib inline"
      ]
    },
    {
      "cell_type": "markdown",
      "source": [
        "# Collect/Import the dataset"
      ],
      "metadata": {
        "id": "P01_zRsSgSH5"
      }
    },
    {
      "cell_type": "markdown",
      "source": [
        "This dataset is about uber and lyft rides. It contains the information of rides type, price, distance, surge_multiplier, climate, location and sunset.[Link](https://www.kaggle.com/datasets/brllrb/uber-and-lyft-dataset-boston-ma)\n",
        "\n",
        "\n",
        "The kaggle API file is used to download the dataset from kaggle website via command line. [Link](https://www.youtube.com/watch?v=gwDOUuBH7ws&t=345s)"
      ],
      "metadata": {
        "id": "rlFQe0auuabM"
      }
    },
    {
      "cell_type": "code",
      "source": [
        "import os\n",
        "os.environ['KAGGLE_CONFIG_DIR'] = '/content'"
      ],
      "metadata": {
        "id": "gFrG75pEuWVO"
      },
      "execution_count": 2,
      "outputs": []
    },
    {
      "cell_type": "code",
      "source": [
        "!kaggle datasets download -d brllrb/uber-and-lyft-dataset-boston-ma"
      ],
      "metadata": {
        "colab": {
          "base_uri": "https://localhost:8080/"
        },
        "id": "8uo8xMCvZvN3",
        "outputId": "66c62b29-794e-4959-90f4-3b9a43185f7f"
      },
      "execution_count": 3,
      "outputs": [
        {
          "output_type": "stream",
          "name": "stdout",
          "text": [
            "Warning: Your Kaggle API key is readable by other users on this system! To fix this, you can run 'chmod 600 /content/kaggle.json'\n",
            "uber-and-lyft-dataset-boston-ma.zip: Skipping, found more recently modified local copy (use --force to force download)\n"
          ]
        }
      ]
    },
    {
      "cell_type": "code",
      "source": [
        "!unzip /content/uber-and-lyft-dataset-boston-ma.zip"
      ],
      "metadata": {
        "colab": {
          "base_uri": "https://localhost:8080/"
        },
        "id": "rpmhnV9yaQ9I",
        "outputId": "60ac4d44-1f7d-4ac7-8b17-57043da910a8"
      },
      "execution_count": 4,
      "outputs": [
        {
          "output_type": "stream",
          "name": "stdout",
          "text": [
            "Archive:  /content/uber-and-lyft-dataset-boston-ma.zip\n",
            "replace rideshare_kaggle.csv? [y]es, [n]o, [A]ll, [N]one, [r]ename: "
          ]
        }
      ]
    },
    {
      "cell_type": "code",
      "source": [
        "rides_data = pd.read_csv('/content/rideshare_kaggle.csv')"
      ],
      "metadata": {
        "id": "xG2bcEXGNcdO"
      },
      "execution_count": 5,
      "outputs": []
    },
    {
      "cell_type": "markdown",
      "source": [
        "#2. Explore the Dataset, data wrangling and visualization\n",
        "\n"
      ],
      "metadata": {
        "id": "UQkbvv8Zgd1x"
      }
    },
    {
      "cell_type": "markdown",
      "source": [
        "This dataset contains 693,071 examples with 57 attributes (56 features and 1 target variable i.e. price). This dataset contains categorical and numerical values."
      ],
      "metadata": {
        "id": "m4tLFHVDunZC"
      }
    },
    {
      "cell_type": "code",
      "source": [
        "rides_data.shape"
      ],
      "metadata": {
        "colab": {
          "base_uri": "https://localhost:8080/"
        },
        "id": "t6NFIsdQfeZR",
        "outputId": "6c8006d3-163f-4668-ed03-a9e15e3a38a3"
      },
      "execution_count": 6,
      "outputs": [
        {
          "output_type": "execute_result",
          "data": {
            "text/plain": [
              "(693071, 57)"
            ]
          },
          "metadata": {},
          "execution_count": 6
        }
      ]
    },
    {
      "cell_type": "code",
      "source": [
        "rides_data.info()"
      ],
      "metadata": {
        "colab": {
          "base_uri": "https://localhost:8080/"
        },
        "id": "noMHctGOfOMR",
        "outputId": "5f139c9b-d1e4-4c12-80d4-49b93e3ab0c9"
      },
      "execution_count": 7,
      "outputs": [
        {
          "output_type": "stream",
          "name": "stdout",
          "text": [
            "<class 'pandas.core.frame.DataFrame'>\n",
            "RangeIndex: 693071 entries, 0 to 693070\n",
            "Data columns (total 57 columns):\n",
            " #   Column                       Non-Null Count   Dtype  \n",
            "---  ------                       --------------   -----  \n",
            " 0   id                           693071 non-null  object \n",
            " 1   timestamp                    693071 non-null  float64\n",
            " 2   hour                         693071 non-null  int64  \n",
            " 3   day                          693071 non-null  int64  \n",
            " 4   month                        693071 non-null  int64  \n",
            " 5   datetime                     693071 non-null  object \n",
            " 6   timezone                     693071 non-null  object \n",
            " 7   source                       693071 non-null  object \n",
            " 8   destination                  693071 non-null  object \n",
            " 9   cab_type                     693071 non-null  object \n",
            " 10  product_id                   693071 non-null  object \n",
            " 11  name                         693071 non-null  object \n",
            " 12  price                        637976 non-null  float64\n",
            " 13  distance                     693071 non-null  float64\n",
            " 14  surge_multiplier             693071 non-null  float64\n",
            " 15  latitude                     693071 non-null  float64\n",
            " 16  longitude                    693071 non-null  float64\n",
            " 17  temperature                  693071 non-null  float64\n",
            " 18  apparentTemperature          693071 non-null  float64\n",
            " 19  short_summary                693071 non-null  object \n",
            " 20  long_summary                 693071 non-null  object \n",
            " 21  precipIntensity              693071 non-null  float64\n",
            " 22  precipProbability            693071 non-null  float64\n",
            " 23  humidity                     693071 non-null  float64\n",
            " 24  windSpeed                    693071 non-null  float64\n",
            " 25  windGust                     693071 non-null  float64\n",
            " 26  windGustTime                 693071 non-null  int64  \n",
            " 27  visibility                   693071 non-null  float64\n",
            " 28  temperatureHigh              693071 non-null  float64\n",
            " 29  temperatureHighTime          693071 non-null  int64  \n",
            " 30  temperatureLow               693071 non-null  float64\n",
            " 31  temperatureLowTime           693071 non-null  int64  \n",
            " 32  apparentTemperatureHigh      693071 non-null  float64\n",
            " 33  apparentTemperatureHighTime  693071 non-null  int64  \n",
            " 34  apparentTemperatureLow       693071 non-null  float64\n",
            " 35  apparentTemperatureLowTime   693071 non-null  int64  \n",
            " 36  icon                         693071 non-null  object \n",
            " 37  dewPoint                     693071 non-null  float64\n",
            " 38  pressure                     693071 non-null  float64\n",
            " 39  windBearing                  693071 non-null  int64  \n",
            " 40  cloudCover                   693071 non-null  float64\n",
            " 41  uvIndex                      693071 non-null  int64  \n",
            " 42  visibility.1                 693071 non-null  float64\n",
            " 43  ozone                        693071 non-null  float64\n",
            " 44  sunriseTime                  693071 non-null  int64  \n",
            " 45  sunsetTime                   693071 non-null  int64  \n",
            " 46  moonPhase                    693071 non-null  float64\n",
            " 47  precipIntensityMax           693071 non-null  float64\n",
            " 48  uvIndexTime                  693071 non-null  int64  \n",
            " 49  temperatureMin               693071 non-null  float64\n",
            " 50  temperatureMinTime           693071 non-null  int64  \n",
            " 51  temperatureMax               693071 non-null  float64\n",
            " 52  temperatureMaxTime           693071 non-null  int64  \n",
            " 53  apparentTemperatureMin       693071 non-null  float64\n",
            " 54  apparentTemperatureMinTime   693071 non-null  int64  \n",
            " 55  apparentTemperatureMax       693071 non-null  float64\n",
            " 56  apparentTemperatureMaxTime   693071 non-null  int64  \n",
            "dtypes: float64(29), int64(17), object(11)\n",
            "memory usage: 301.4+ MB\n"
          ]
        }
      ]
    },
    {
      "cell_type": "code",
      "source": [
        "rides_data.head()"
      ],
      "metadata": {
        "colab": {
          "base_uri": "https://localhost:8080/",
          "height": 359
        },
        "id": "li4WAIu7aMJx",
        "outputId": "c1918b1d-bbb2-40e6-a048-40c3f243e898"
      },
      "execution_count": 8,
      "outputs": [
        {
          "output_type": "execute_result",
          "data": {
            "text/plain": [
              "                                     id     timestamp  hour  day  month  \\\n",
              "0  424553bb-7174-41ea-aeb4-fe06d4f4b9d7  1.544953e+09     9   16     12   \n",
              "1  4bd23055-6827-41c6-b23b-3c491f24e74d  1.543284e+09     2   27     11   \n",
              "2  981a3613-77af-4620-a42a-0c0866077d1e  1.543367e+09     1   28     11   \n",
              "3  c2d88af2-d278-4bfd-a8d0-29ca77cc5512  1.543554e+09     4   30     11   \n",
              "4  e0126e1f-8ca9-4f2e-82b3-50505a09db9a  1.543463e+09     3   29     11   \n",
              "\n",
              "              datetime          timezone            source    destination  \\\n",
              "0  2018-12-16 09:30:07  America/New_York  Haymarket Square  North Station   \n",
              "1  2018-11-27 02:00:23  America/New_York  Haymarket Square  North Station   \n",
              "2  2018-11-28 01:00:22  America/New_York  Haymarket Square  North Station   \n",
              "3  2018-11-30 04:53:02  America/New_York  Haymarket Square  North Station   \n",
              "4  2018-11-29 03:49:20  America/New_York  Haymarket Square  North Station   \n",
              "\n",
              "  cab_type  ... precipIntensityMax uvIndexTime  temperatureMin  \\\n",
              "0     Lyft  ...             0.1276  1544979600           39.89   \n",
              "1     Lyft  ...             0.1300  1543251600           40.49   \n",
              "2     Lyft  ...             0.1064  1543338000           35.36   \n",
              "3     Lyft  ...             0.0000  1543507200           34.67   \n",
              "4     Lyft  ...             0.0001  1543420800           33.10   \n",
              "\n",
              "   temperatureMinTime  temperatureMax  temperatureMaxTime  \\\n",
              "0          1545012000           43.68          1544968800   \n",
              "1          1543233600           47.30          1543251600   \n",
              "2          1543377600           47.55          1543320000   \n",
              "3          1543550400           45.03          1543510800   \n",
              "4          1543402800           42.18          1543420800   \n",
              "\n",
              "   apparentTemperatureMin  apparentTemperatureMinTime  apparentTemperatureMax  \\\n",
              "0                   33.73                  1545012000                   38.07   \n",
              "1                   36.20                  1543291200                   43.92   \n",
              "2                   31.04                  1543377600                   44.12   \n",
              "3                   30.30                  1543550400                   38.53   \n",
              "4                   29.11                  1543392000                   35.75   \n",
              "\n",
              "  apparentTemperatureMaxTime  \n",
              "0                 1544958000  \n",
              "1                 1543251600  \n",
              "2                 1543320000  \n",
              "3                 1543510800  \n",
              "4                 1543420800  \n",
              "\n",
              "[5 rows x 57 columns]"
            ],
            "text/html": [
              "\n",
              "  <div id=\"df-e40b0b31-09b7-46f0-bcee-b240b6bcf1a6\" class=\"colab-df-container\">\n",
              "    <div>\n",
              "<style scoped>\n",
              "    .dataframe tbody tr th:only-of-type {\n",
              "        vertical-align: middle;\n",
              "    }\n",
              "\n",
              "    .dataframe tbody tr th {\n",
              "        vertical-align: top;\n",
              "    }\n",
              "\n",
              "    .dataframe thead th {\n",
              "        text-align: right;\n",
              "    }\n",
              "</style>\n",
              "<table border=\"1\" class=\"dataframe\">\n",
              "  <thead>\n",
              "    <tr style=\"text-align: right;\">\n",
              "      <th></th>\n",
              "      <th>id</th>\n",
              "      <th>timestamp</th>\n",
              "      <th>hour</th>\n",
              "      <th>day</th>\n",
              "      <th>month</th>\n",
              "      <th>datetime</th>\n",
              "      <th>timezone</th>\n",
              "      <th>source</th>\n",
              "      <th>destination</th>\n",
              "      <th>cab_type</th>\n",
              "      <th>...</th>\n",
              "      <th>precipIntensityMax</th>\n",
              "      <th>uvIndexTime</th>\n",
              "      <th>temperatureMin</th>\n",
              "      <th>temperatureMinTime</th>\n",
              "      <th>temperatureMax</th>\n",
              "      <th>temperatureMaxTime</th>\n",
              "      <th>apparentTemperatureMin</th>\n",
              "      <th>apparentTemperatureMinTime</th>\n",
              "      <th>apparentTemperatureMax</th>\n",
              "      <th>apparentTemperatureMaxTime</th>\n",
              "    </tr>\n",
              "  </thead>\n",
              "  <tbody>\n",
              "    <tr>\n",
              "      <th>0</th>\n",
              "      <td>424553bb-7174-41ea-aeb4-fe06d4f4b9d7</td>\n",
              "      <td>1.544953e+09</td>\n",
              "      <td>9</td>\n",
              "      <td>16</td>\n",
              "      <td>12</td>\n",
              "      <td>2018-12-16 09:30:07</td>\n",
              "      <td>America/New_York</td>\n",
              "      <td>Haymarket Square</td>\n",
              "      <td>North Station</td>\n",
              "      <td>Lyft</td>\n",
              "      <td>...</td>\n",
              "      <td>0.1276</td>\n",
              "      <td>1544979600</td>\n",
              "      <td>39.89</td>\n",
              "      <td>1545012000</td>\n",
              "      <td>43.68</td>\n",
              "      <td>1544968800</td>\n",
              "      <td>33.73</td>\n",
              "      <td>1545012000</td>\n",
              "      <td>38.07</td>\n",
              "      <td>1544958000</td>\n",
              "    </tr>\n",
              "    <tr>\n",
              "      <th>1</th>\n",
              "      <td>4bd23055-6827-41c6-b23b-3c491f24e74d</td>\n",
              "      <td>1.543284e+09</td>\n",
              "      <td>2</td>\n",
              "      <td>27</td>\n",
              "      <td>11</td>\n",
              "      <td>2018-11-27 02:00:23</td>\n",
              "      <td>America/New_York</td>\n",
              "      <td>Haymarket Square</td>\n",
              "      <td>North Station</td>\n",
              "      <td>Lyft</td>\n",
              "      <td>...</td>\n",
              "      <td>0.1300</td>\n",
              "      <td>1543251600</td>\n",
              "      <td>40.49</td>\n",
              "      <td>1543233600</td>\n",
              "      <td>47.30</td>\n",
              "      <td>1543251600</td>\n",
              "      <td>36.20</td>\n",
              "      <td>1543291200</td>\n",
              "      <td>43.92</td>\n",
              "      <td>1543251600</td>\n",
              "    </tr>\n",
              "    <tr>\n",
              "      <th>2</th>\n",
              "      <td>981a3613-77af-4620-a42a-0c0866077d1e</td>\n",
              "      <td>1.543367e+09</td>\n",
              "      <td>1</td>\n",
              "      <td>28</td>\n",
              "      <td>11</td>\n",
              "      <td>2018-11-28 01:00:22</td>\n",
              "      <td>America/New_York</td>\n",
              "      <td>Haymarket Square</td>\n",
              "      <td>North Station</td>\n",
              "      <td>Lyft</td>\n",
              "      <td>...</td>\n",
              "      <td>0.1064</td>\n",
              "      <td>1543338000</td>\n",
              "      <td>35.36</td>\n",
              "      <td>1543377600</td>\n",
              "      <td>47.55</td>\n",
              "      <td>1543320000</td>\n",
              "      <td>31.04</td>\n",
              "      <td>1543377600</td>\n",
              "      <td>44.12</td>\n",
              "      <td>1543320000</td>\n",
              "    </tr>\n",
              "    <tr>\n",
              "      <th>3</th>\n",
              "      <td>c2d88af2-d278-4bfd-a8d0-29ca77cc5512</td>\n",
              "      <td>1.543554e+09</td>\n",
              "      <td>4</td>\n",
              "      <td>30</td>\n",
              "      <td>11</td>\n",
              "      <td>2018-11-30 04:53:02</td>\n",
              "      <td>America/New_York</td>\n",
              "      <td>Haymarket Square</td>\n",
              "      <td>North Station</td>\n",
              "      <td>Lyft</td>\n",
              "      <td>...</td>\n",
              "      <td>0.0000</td>\n",
              "      <td>1543507200</td>\n",
              "      <td>34.67</td>\n",
              "      <td>1543550400</td>\n",
              "      <td>45.03</td>\n",
              "      <td>1543510800</td>\n",
              "      <td>30.30</td>\n",
              "      <td>1543550400</td>\n",
              "      <td>38.53</td>\n",
              "      <td>1543510800</td>\n",
              "    </tr>\n",
              "    <tr>\n",
              "      <th>4</th>\n",
              "      <td>e0126e1f-8ca9-4f2e-82b3-50505a09db9a</td>\n",
              "      <td>1.543463e+09</td>\n",
              "      <td>3</td>\n",
              "      <td>29</td>\n",
              "      <td>11</td>\n",
              "      <td>2018-11-29 03:49:20</td>\n",
              "      <td>America/New_York</td>\n",
              "      <td>Haymarket Square</td>\n",
              "      <td>North Station</td>\n",
              "      <td>Lyft</td>\n",
              "      <td>...</td>\n",
              "      <td>0.0001</td>\n",
              "      <td>1543420800</td>\n",
              "      <td>33.10</td>\n",
              "      <td>1543402800</td>\n",
              "      <td>42.18</td>\n",
              "      <td>1543420800</td>\n",
              "      <td>29.11</td>\n",
              "      <td>1543392000</td>\n",
              "      <td>35.75</td>\n",
              "      <td>1543420800</td>\n",
              "    </tr>\n",
              "  </tbody>\n",
              "</table>\n",
              "<p>5 rows × 57 columns</p>\n",
              "</div>\n",
              "    <div class=\"colab-df-buttons\">\n",
              "\n",
              "  <div class=\"colab-df-container\">\n",
              "    <button class=\"colab-df-convert\" onclick=\"convertToInteractive('df-e40b0b31-09b7-46f0-bcee-b240b6bcf1a6')\"\n",
              "            title=\"Convert this dataframe to an interactive table.\"\n",
              "            style=\"display:none;\">\n",
              "\n",
              "  <svg xmlns=\"http://www.w3.org/2000/svg\" height=\"24px\" viewBox=\"0 -960 960 960\">\n",
              "    <path d=\"M120-120v-720h720v720H120Zm60-500h600v-160H180v160Zm220 220h160v-160H400v160Zm0 220h160v-160H400v160ZM180-400h160v-160H180v160Zm440 0h160v-160H620v160ZM180-180h160v-160H180v160Zm440 0h160v-160H620v160Z\"/>\n",
              "  </svg>\n",
              "    </button>\n",
              "\n",
              "  <style>\n",
              "    .colab-df-container {\n",
              "      display:flex;\n",
              "      gap: 12px;\n",
              "    }\n",
              "\n",
              "    .colab-df-convert {\n",
              "      background-color: #E8F0FE;\n",
              "      border: none;\n",
              "      border-radius: 50%;\n",
              "      cursor: pointer;\n",
              "      display: none;\n",
              "      fill: #1967D2;\n",
              "      height: 32px;\n",
              "      padding: 0 0 0 0;\n",
              "      width: 32px;\n",
              "    }\n",
              "\n",
              "    .colab-df-convert:hover {\n",
              "      background-color: #E2EBFA;\n",
              "      box-shadow: 0px 1px 2px rgba(60, 64, 67, 0.3), 0px 1px 3px 1px rgba(60, 64, 67, 0.15);\n",
              "      fill: #174EA6;\n",
              "    }\n",
              "\n",
              "    .colab-df-buttons div {\n",
              "      margin-bottom: 4px;\n",
              "    }\n",
              "\n",
              "    [theme=dark] .colab-df-convert {\n",
              "      background-color: #3B4455;\n",
              "      fill: #D2E3FC;\n",
              "    }\n",
              "\n",
              "    [theme=dark] .colab-df-convert:hover {\n",
              "      background-color: #434B5C;\n",
              "      box-shadow: 0px 1px 3px 1px rgba(0, 0, 0, 0.15);\n",
              "      filter: drop-shadow(0px 1px 2px rgba(0, 0, 0, 0.3));\n",
              "      fill: #FFFFFF;\n",
              "    }\n",
              "  </style>\n",
              "\n",
              "    <script>\n",
              "      const buttonEl =\n",
              "        document.querySelector('#df-e40b0b31-09b7-46f0-bcee-b240b6bcf1a6 button.colab-df-convert');\n",
              "      buttonEl.style.display =\n",
              "        google.colab.kernel.accessAllowed ? 'block' : 'none';\n",
              "\n",
              "      async function convertToInteractive(key) {\n",
              "        const element = document.querySelector('#df-e40b0b31-09b7-46f0-bcee-b240b6bcf1a6');\n",
              "        const dataTable =\n",
              "          await google.colab.kernel.invokeFunction('convertToInteractive',\n",
              "                                                    [key], {});\n",
              "        if (!dataTable) return;\n",
              "\n",
              "        const docLinkHtml = 'Like what you see? Visit the ' +\n",
              "          '<a target=\"_blank\" href=https://colab.research.google.com/notebooks/data_table.ipynb>data table notebook</a>'\n",
              "          + ' to learn more about interactive tables.';\n",
              "        element.innerHTML = '';\n",
              "        dataTable['output_type'] = 'display_data';\n",
              "        await google.colab.output.renderOutput(dataTable, element);\n",
              "        const docLink = document.createElement('div');\n",
              "        docLink.innerHTML = docLinkHtml;\n",
              "        element.appendChild(docLink);\n",
              "      }\n",
              "    </script>\n",
              "  </div>\n",
              "\n",
              "\n",
              "<div id=\"df-1488a06a-754c-4670-ba86-6906c52bd7b9\">\n",
              "  <button class=\"colab-df-quickchart\" onclick=\"quickchart('df-1488a06a-754c-4670-ba86-6906c52bd7b9')\"\n",
              "            title=\"Suggest charts.\"\n",
              "            style=\"display:none;\">\n",
              "\n",
              "<svg xmlns=\"http://www.w3.org/2000/svg\" height=\"24px\"viewBox=\"0 0 24 24\"\n",
              "     width=\"24px\">\n",
              "    <g>\n",
              "        <path d=\"M19 3H5c-1.1 0-2 .9-2 2v14c0 1.1.9 2 2 2h14c1.1 0 2-.9 2-2V5c0-1.1-.9-2-2-2zM9 17H7v-7h2v7zm4 0h-2V7h2v10zm4 0h-2v-4h2v4z\"/>\n",
              "    </g>\n",
              "</svg>\n",
              "  </button>\n",
              "\n",
              "<style>\n",
              "  .colab-df-quickchart {\n",
              "      --bg-color: #E8F0FE;\n",
              "      --fill-color: #1967D2;\n",
              "      --hover-bg-color: #E2EBFA;\n",
              "      --hover-fill-color: #174EA6;\n",
              "      --disabled-fill-color: #AAA;\n",
              "      --disabled-bg-color: #DDD;\n",
              "  }\n",
              "\n",
              "  [theme=dark] .colab-df-quickchart {\n",
              "      --bg-color: #3B4455;\n",
              "      --fill-color: #D2E3FC;\n",
              "      --hover-bg-color: #434B5C;\n",
              "      --hover-fill-color: #FFFFFF;\n",
              "      --disabled-bg-color: #3B4455;\n",
              "      --disabled-fill-color: #666;\n",
              "  }\n",
              "\n",
              "  .colab-df-quickchart {\n",
              "    background-color: var(--bg-color);\n",
              "    border: none;\n",
              "    border-radius: 50%;\n",
              "    cursor: pointer;\n",
              "    display: none;\n",
              "    fill: var(--fill-color);\n",
              "    height: 32px;\n",
              "    padding: 0;\n",
              "    width: 32px;\n",
              "  }\n",
              "\n",
              "  .colab-df-quickchart:hover {\n",
              "    background-color: var(--hover-bg-color);\n",
              "    box-shadow: 0 1px 2px rgba(60, 64, 67, 0.3), 0 1px 3px 1px rgba(60, 64, 67, 0.15);\n",
              "    fill: var(--button-hover-fill-color);\n",
              "  }\n",
              "\n",
              "  .colab-df-quickchart-complete:disabled,\n",
              "  .colab-df-quickchart-complete:disabled:hover {\n",
              "    background-color: var(--disabled-bg-color);\n",
              "    fill: var(--disabled-fill-color);\n",
              "    box-shadow: none;\n",
              "  }\n",
              "\n",
              "  .colab-df-spinner {\n",
              "    border: 2px solid var(--fill-color);\n",
              "    border-color: transparent;\n",
              "    border-bottom-color: var(--fill-color);\n",
              "    animation:\n",
              "      spin 1s steps(1) infinite;\n",
              "  }\n",
              "\n",
              "  @keyframes spin {\n",
              "    0% {\n",
              "      border-color: transparent;\n",
              "      border-bottom-color: var(--fill-color);\n",
              "      border-left-color: var(--fill-color);\n",
              "    }\n",
              "    20% {\n",
              "      border-color: transparent;\n",
              "      border-left-color: var(--fill-color);\n",
              "      border-top-color: var(--fill-color);\n",
              "    }\n",
              "    30% {\n",
              "      border-color: transparent;\n",
              "      border-left-color: var(--fill-color);\n",
              "      border-top-color: var(--fill-color);\n",
              "      border-right-color: var(--fill-color);\n",
              "    }\n",
              "    40% {\n",
              "      border-color: transparent;\n",
              "      border-right-color: var(--fill-color);\n",
              "      border-top-color: var(--fill-color);\n",
              "    }\n",
              "    60% {\n",
              "      border-color: transparent;\n",
              "      border-right-color: var(--fill-color);\n",
              "    }\n",
              "    80% {\n",
              "      border-color: transparent;\n",
              "      border-right-color: var(--fill-color);\n",
              "      border-bottom-color: var(--fill-color);\n",
              "    }\n",
              "    90% {\n",
              "      border-color: transparent;\n",
              "      border-bottom-color: var(--fill-color);\n",
              "    }\n",
              "  }\n",
              "</style>\n",
              "\n",
              "  <script>\n",
              "    async function quickchart(key) {\n",
              "      const quickchartButtonEl =\n",
              "        document.querySelector('#' + key + ' button');\n",
              "      quickchartButtonEl.disabled = true;  // To prevent multiple clicks.\n",
              "      quickchartButtonEl.classList.add('colab-df-spinner');\n",
              "      try {\n",
              "        const charts = await google.colab.kernel.invokeFunction(\n",
              "            'suggestCharts', [key], {});\n",
              "      } catch (error) {\n",
              "        console.error('Error during call to suggestCharts:', error);\n",
              "      }\n",
              "      quickchartButtonEl.classList.remove('colab-df-spinner');\n",
              "      quickchartButtonEl.classList.add('colab-df-quickchart-complete');\n",
              "    }\n",
              "    (() => {\n",
              "      let quickchartButtonEl =\n",
              "        document.querySelector('#df-1488a06a-754c-4670-ba86-6906c52bd7b9 button');\n",
              "      quickchartButtonEl.style.display =\n",
              "        google.colab.kernel.accessAllowed ? 'block' : 'none';\n",
              "    })();\n",
              "  </script>\n",
              "</div>\n",
              "    </div>\n",
              "  </div>\n"
            ]
          },
          "metadata": {},
          "execution_count": 8
        }
      ]
    },
    {
      "cell_type": "code",
      "source": [
        "rides_data.columns"
      ],
      "metadata": {
        "colab": {
          "base_uri": "https://localhost:8080/"
        },
        "id": "Jp0RvqZcmyoy",
        "outputId": "d4984826-5e42-4aa4-c713-7a1e056e6073"
      },
      "execution_count": 9,
      "outputs": [
        {
          "output_type": "execute_result",
          "data": {
            "text/plain": [
              "Index(['id', 'timestamp', 'hour', 'day', 'month', 'datetime', 'timezone',\n",
              "       'source', 'destination', 'cab_type', 'product_id', 'name', 'price',\n",
              "       'distance', 'surge_multiplier', 'latitude', 'longitude', 'temperature',\n",
              "       'apparentTemperature', 'short_summary', 'long_summary',\n",
              "       'precipIntensity', 'precipProbability', 'humidity', 'windSpeed',\n",
              "       'windGust', 'windGustTime', 'visibility', 'temperatureHigh',\n",
              "       'temperatureHighTime', 'temperatureLow', 'temperatureLowTime',\n",
              "       'apparentTemperatureHigh', 'apparentTemperatureHighTime',\n",
              "       'apparentTemperatureLow', 'apparentTemperatureLowTime', 'icon',\n",
              "       'dewPoint', 'pressure', 'windBearing', 'cloudCover', 'uvIndex',\n",
              "       'visibility.1', 'ozone', 'sunriseTime', 'sunsetTime', 'moonPhase',\n",
              "       'precipIntensityMax', 'uvIndexTime', 'temperatureMin',\n",
              "       'temperatureMinTime', 'temperatureMax', 'temperatureMaxTime',\n",
              "       'apparentTemperatureMin', 'apparentTemperatureMinTime',\n",
              "       'apparentTemperatureMax', 'apparentTemperatureMaxTime'],\n",
              "      dtype='object')"
            ]
          },
          "metadata": {},
          "execution_count": 9
        }
      ]
    },
    {
      "cell_type": "markdown",
      "source": [
        "##Get/correct the datetime\n",
        "pd.to_datetime function is used to calculayte the datetime feature from the timestamp or to correct the data type of the datatime. This features is very useful to\n",
        "\n",
        "*   Merge the datasets.\n",
        "*   Visualize/explore the data values to get new insights.\n",
        "*   Sort the dataset based on date and time.\n",
        "\n"
      ],
      "metadata": {
        "id": "561K1LsgfzG3"
      }
    },
    {
      "cell_type": "code",
      "source": [
        "rides_data['datetime'] = pd.to_datetime(rides_data['datetime'])"
      ],
      "metadata": {
        "id": "ynu3sUo7aTT-"
      },
      "execution_count": 10,
      "outputs": []
    },
    {
      "cell_type": "code",
      "source": [
        "rides_data.info()"
      ],
      "metadata": {
        "colab": {
          "base_uri": "https://localhost:8080/"
        },
        "id": "YckS-FMMcUqp",
        "outputId": "a6e8b14e-7540-4ea1-ac9e-de0f4e1f5997"
      },
      "execution_count": 11,
      "outputs": [
        {
          "output_type": "stream",
          "name": "stdout",
          "text": [
            "<class 'pandas.core.frame.DataFrame'>\n",
            "RangeIndex: 693071 entries, 0 to 693070\n",
            "Data columns (total 57 columns):\n",
            " #   Column                       Non-Null Count   Dtype         \n",
            "---  ------                       --------------   -----         \n",
            " 0   id                           693071 non-null  object        \n",
            " 1   timestamp                    693071 non-null  float64       \n",
            " 2   hour                         693071 non-null  int64         \n",
            " 3   day                          693071 non-null  int64         \n",
            " 4   month                        693071 non-null  int64         \n",
            " 5   datetime                     693071 non-null  datetime64[ns]\n",
            " 6   timezone                     693071 non-null  object        \n",
            " 7   source                       693071 non-null  object        \n",
            " 8   destination                  693071 non-null  object        \n",
            " 9   cab_type                     693071 non-null  object        \n",
            " 10  product_id                   693071 non-null  object        \n",
            " 11  name                         693071 non-null  object        \n",
            " 12  price                        637976 non-null  float64       \n",
            " 13  distance                     693071 non-null  float64       \n",
            " 14  surge_multiplier             693071 non-null  float64       \n",
            " 15  latitude                     693071 non-null  float64       \n",
            " 16  longitude                    693071 non-null  float64       \n",
            " 17  temperature                  693071 non-null  float64       \n",
            " 18  apparentTemperature          693071 non-null  float64       \n",
            " 19  short_summary                693071 non-null  object        \n",
            " 20  long_summary                 693071 non-null  object        \n",
            " 21  precipIntensity              693071 non-null  float64       \n",
            " 22  precipProbability            693071 non-null  float64       \n",
            " 23  humidity                     693071 non-null  float64       \n",
            " 24  windSpeed                    693071 non-null  float64       \n",
            " 25  windGust                     693071 non-null  float64       \n",
            " 26  windGustTime                 693071 non-null  int64         \n",
            " 27  visibility                   693071 non-null  float64       \n",
            " 28  temperatureHigh              693071 non-null  float64       \n",
            " 29  temperatureHighTime          693071 non-null  int64         \n",
            " 30  temperatureLow               693071 non-null  float64       \n",
            " 31  temperatureLowTime           693071 non-null  int64         \n",
            " 32  apparentTemperatureHigh      693071 non-null  float64       \n",
            " 33  apparentTemperatureHighTime  693071 non-null  int64         \n",
            " 34  apparentTemperatureLow       693071 non-null  float64       \n",
            " 35  apparentTemperatureLowTime   693071 non-null  int64         \n",
            " 36  icon                         693071 non-null  object        \n",
            " 37  dewPoint                     693071 non-null  float64       \n",
            " 38  pressure                     693071 non-null  float64       \n",
            " 39  windBearing                  693071 non-null  int64         \n",
            " 40  cloudCover                   693071 non-null  float64       \n",
            " 41  uvIndex                      693071 non-null  int64         \n",
            " 42  visibility.1                 693071 non-null  float64       \n",
            " 43  ozone                        693071 non-null  float64       \n",
            " 44  sunriseTime                  693071 non-null  int64         \n",
            " 45  sunsetTime                   693071 non-null  int64         \n",
            " 46  moonPhase                    693071 non-null  float64       \n",
            " 47  precipIntensityMax           693071 non-null  float64       \n",
            " 48  uvIndexTime                  693071 non-null  int64         \n",
            " 49  temperatureMin               693071 non-null  float64       \n",
            " 50  temperatureMinTime           693071 non-null  int64         \n",
            " 51  temperatureMax               693071 non-null  float64       \n",
            " 52  temperatureMaxTime           693071 non-null  int64         \n",
            " 53  apparentTemperatureMin       693071 non-null  float64       \n",
            " 54  apparentTemperatureMinTime   693071 non-null  int64         \n",
            " 55  apparentTemperatureMax       693071 non-null  float64       \n",
            " 56  apparentTemperatureMaxTime   693071 non-null  int64         \n",
            "dtypes: datetime64[ns](1), float64(29), int64(17), object(10)\n",
            "memory usage: 301.4+ MB\n"
          ]
        }
      ]
    },
    {
      "cell_type": "markdown",
      "source": [
        "## Data Imputation to handle missing values\n",
        "Missing values are identified in each attribute of the dataset. It can be treated using following techniques\n",
        "\n",
        "\n",
        "1.   Delete the examples with missing value.\n",
        "2.   Use mean, median or mode value of the column to fill the missing value.\n",
        "3.   KNN technique.\n",
        "\n"
      ],
      "metadata": {
        "id": "v_pbwFFahDb0"
      }
    },
    {
      "cell_type": "code",
      "source": [
        "rides_data.isnull().sum()/len(rides_data)*100"
      ],
      "metadata": {
        "colab": {
          "base_uri": "https://localhost:8080/"
        },
        "id": "dqaNzOLvcXpB",
        "outputId": "2eb9c78d-6cc7-4763-ebd3-db91f74e7805"
      },
      "execution_count": 12,
      "outputs": [
        {
          "output_type": "execute_result",
          "data": {
            "text/plain": [
              "id                             0.000000\n",
              "timestamp                      0.000000\n",
              "hour                           0.000000\n",
              "day                            0.000000\n",
              "month                          0.000000\n",
              "datetime                       0.000000\n",
              "timezone                       0.000000\n",
              "source                         0.000000\n",
              "destination                    0.000000\n",
              "cab_type                       0.000000\n",
              "product_id                     0.000000\n",
              "name                           0.000000\n",
              "price                          7.949402\n",
              "distance                       0.000000\n",
              "surge_multiplier               0.000000\n",
              "latitude                       0.000000\n",
              "longitude                      0.000000\n",
              "temperature                    0.000000\n",
              "apparentTemperature            0.000000\n",
              "short_summary                  0.000000\n",
              "long_summary                   0.000000\n",
              "precipIntensity                0.000000\n",
              "precipProbability              0.000000\n",
              "humidity                       0.000000\n",
              "windSpeed                      0.000000\n",
              "windGust                       0.000000\n",
              "windGustTime                   0.000000\n",
              "visibility                     0.000000\n",
              "temperatureHigh                0.000000\n",
              "temperatureHighTime            0.000000\n",
              "temperatureLow                 0.000000\n",
              "temperatureLowTime             0.000000\n",
              "apparentTemperatureHigh        0.000000\n",
              "apparentTemperatureHighTime    0.000000\n",
              "apparentTemperatureLow         0.000000\n",
              "apparentTemperatureLowTime     0.000000\n",
              "icon                           0.000000\n",
              "dewPoint                       0.000000\n",
              "pressure                       0.000000\n",
              "windBearing                    0.000000\n",
              "cloudCover                     0.000000\n",
              "uvIndex                        0.000000\n",
              "visibility.1                   0.000000\n",
              "ozone                          0.000000\n",
              "sunriseTime                    0.000000\n",
              "sunsetTime                     0.000000\n",
              "moonPhase                      0.000000\n",
              "precipIntensityMax             0.000000\n",
              "uvIndexTime                    0.000000\n",
              "temperatureMin                 0.000000\n",
              "temperatureMinTime             0.000000\n",
              "temperatureMax                 0.000000\n",
              "temperatureMaxTime             0.000000\n",
              "apparentTemperatureMin         0.000000\n",
              "apparentTemperatureMinTime     0.000000\n",
              "apparentTemperatureMax         0.000000\n",
              "apparentTemperatureMaxTime     0.000000\n",
              "dtype: float64"
            ]
          },
          "metadata": {},
          "execution_count": 12
        }
      ]
    },
    {
      "cell_type": "markdown",
      "source": [
        "Price is target variable and it has null values. We can drop those rows"
      ],
      "metadata": {
        "id": "ISpQ9rKAdj1D"
      }
    },
    {
      "cell_type": "code",
      "source": [
        "rides_data = rides_data.dropna()"
      ],
      "metadata": {
        "id": "jJAPp1gFcqtG"
      },
      "execution_count": 13,
      "outputs": []
    },
    {
      "cell_type": "code",
      "source": [
        "rides_data.isnull().sum()"
      ],
      "metadata": {
        "colab": {
          "base_uri": "https://localhost:8080/"
        },
        "id": "JcUE36Btdphh",
        "outputId": "8bd62961-ec95-41c6-aeb4-e40d955b9438"
      },
      "execution_count": 14,
      "outputs": [
        {
          "output_type": "execute_result",
          "data": {
            "text/plain": [
              "id                             0\n",
              "timestamp                      0\n",
              "hour                           0\n",
              "day                            0\n",
              "month                          0\n",
              "datetime                       0\n",
              "timezone                       0\n",
              "source                         0\n",
              "destination                    0\n",
              "cab_type                       0\n",
              "product_id                     0\n",
              "name                           0\n",
              "price                          0\n",
              "distance                       0\n",
              "surge_multiplier               0\n",
              "latitude                       0\n",
              "longitude                      0\n",
              "temperature                    0\n",
              "apparentTemperature            0\n",
              "short_summary                  0\n",
              "long_summary                   0\n",
              "precipIntensity                0\n",
              "precipProbability              0\n",
              "humidity                       0\n",
              "windSpeed                      0\n",
              "windGust                       0\n",
              "windGustTime                   0\n",
              "visibility                     0\n",
              "temperatureHigh                0\n",
              "temperatureHighTime            0\n",
              "temperatureLow                 0\n",
              "temperatureLowTime             0\n",
              "apparentTemperatureHigh        0\n",
              "apparentTemperatureHighTime    0\n",
              "apparentTemperatureLow         0\n",
              "apparentTemperatureLowTime     0\n",
              "icon                           0\n",
              "dewPoint                       0\n",
              "pressure                       0\n",
              "windBearing                    0\n",
              "cloudCover                     0\n",
              "uvIndex                        0\n",
              "visibility.1                   0\n",
              "ozone                          0\n",
              "sunriseTime                    0\n",
              "sunsetTime                     0\n",
              "moonPhase                      0\n",
              "precipIntensityMax             0\n",
              "uvIndexTime                    0\n",
              "temperatureMin                 0\n",
              "temperatureMinTime             0\n",
              "temperatureMax                 0\n",
              "temperatureMaxTime             0\n",
              "apparentTemperatureMin         0\n",
              "apparentTemperatureMinTime     0\n",
              "apparentTemperatureMax         0\n",
              "apparentTemperatureMaxTime     0\n",
              "dtype: int64"
            ]
          },
          "metadata": {},
          "execution_count": 14
        }
      ]
    },
    {
      "cell_type": "code",
      "source": [
        "rides_data.shape"
      ],
      "metadata": {
        "colab": {
          "base_uri": "https://localhost:8080/"
        },
        "id": "fJgSJFj0dsAk",
        "outputId": "78b005a2-e6d8-464a-cb30-f6f79881d208"
      },
      "execution_count": 15,
      "outputs": [
        {
          "output_type": "execute_result",
          "data": {
            "text/plain": [
              "(637976, 57)"
            ]
          },
          "metadata": {},
          "execution_count": 15
        }
      ]
    },
    {
      "cell_type": "markdown",
      "source": [
        "## Data Visualization\n",
        "Figure 1: Lux Black XL, Black SUV prices are higher than other rides type. Uberpool and Shared types have lowest prices.\n",
        "\n",
        "Figure 2: Rain and clouds are the climate factors for higher surge multiplier.\n",
        "\n",
        "Figure 3: Long distances should be perfect direct proportion to the price. but we have not observed that relation. It means there are other factors like surge_multiplier who affect the ride price.\n",
        "\n",
        "Figure 4: People did not prefer to go for long distances when the surge_multiplier is highest."
      ],
      "metadata": {
        "id": "p3BEO7xJjSm-"
      }
    },
    {
      "cell_type": "code",
      "source": [
        "fig, axes = plt.subplots(2, 2, figsize=(12, 8))\n",
        "fig.suptitle('Data Insights')\n",
        "sns.stripplot(ax=axes[0, 0], data=rides_data, x='price', y='name')\n",
        "sns.stripplot(ax=axes[0, 1], data=rides_data, x='surge_multiplier', y='icon')\n",
        "sns.scatterplot(ax=axes[1, 0], data=rides_data, x='distance', y='price')\n",
        "sns.boxplot(ax=axes[1, 1], data=rides_data, x='surge_multiplier', y='distance')"
      ],
      "metadata": {
        "id": "LECzyLW3gWJY",
        "colab": {
          "base_uri": "https://localhost:8080/",
          "height": 653
        },
        "outputId": "756a95b1-8759-41ec-ee99-70d7052f9a9d"
      },
      "execution_count": 16,
      "outputs": [
        {
          "output_type": "execute_result",
          "data": {
            "text/plain": [
              "<Axes: xlabel='surge_multiplier', ylabel='distance'>"
            ]
          },
          "metadata": {},
          "execution_count": 16
        },
        {
          "output_type": "display_data",
          "data": {
            "text/plain": [
              "<Figure size 1200x800 with 4 Axes>"
            ],
            "image/png": "[encoded data removed]"
          },
          "metadata": {}
        }
      ]
    },
    {
      "cell_type": "markdown",
      "source": [
        "Correlation gives pairwise feature relationship. Price attribute relates with distance and surge_multipler in correlation map."
      ],
      "metadata": {
        "id": "LZk7_fq8IAEW"
      }
    },
    {
      "cell_type": "code",
      "source": [
        "#plotting relation between correlation and rideshare dataframe\n",
        "correlation=rides_data.corr()[['price']]\n",
        "price_corr=correlation[(correlation['price']>0.0001)|(correlation['price']<-0.0001)]\n",
        "price_corr.plot.bar()"
      ],
      "metadata": {
        "id": "09WHjF_whAUT",
        "colab": {
          "base_uri": "https://localhost:8080/",
          "height": 706
        },
        "outputId": "8858ed35-a0b6-4218-fc11-e173a4142395"
      },
      "execution_count": 17,
      "outputs": [
        {
          "output_type": "stream",
          "name": "stderr",
          "text": [
            "<ipython-input-17-320f71a17de5>:2: FutureWarning: The default value of numeric_only in DataFrame.corr is deprecated. In a future version, it will default to False. Select only valid columns or specify the value of numeric_only to silence this warning.\n",
            "  correlation=rides_data.corr()[['price']]\n"
          ]
        },
        {
          "output_type": "execute_result",
          "data": {
            "text/plain": [
              "<Axes: >"
            ]
          },
          "metadata": {},
          "execution_count": 17
        },
        {
          "output_type": "display_data",
          "data": {
            "text/plain": [
              "<Figure size 640x480 with 1 Axes>"
            ],
            "image/png": "[encoded data removed]"
          },
          "metadata": {}
        }
      ]
    },
    {
      "cell_type": "code",
      "source": [
        "correlation.style.background_gradient(cmap='coolwarm')"
      ],
      "metadata": {
        "id": "mzOxI8bemv1o",
        "colab": {
          "base_uri": "https://localhost:8080/",
          "height": 1000
        },
        "outputId": "5d0a6a1c-57a5-4d9a-c8f8-e7b6ed0d57a4"
      },
      "execution_count": 18,
      "outputs": [
        {
          "output_type": "execute_result",
          "data": {
            "text/plain": [
              "<pandas.io.formats.style.Styler at 0x791ff0ebbf40>"
            ],
            "text/html": [
              "<style type=\"text/css\">\n",
              "#T_0e6cf_row0_col0, #T_0e6cf_row1_col0, #T_0e6cf_row2_col0, #T_0e6cf_row3_col0, #T_0e6cf_row7_col0, #T_0e6cf_row8_col0, #T_0e6cf_row9_col0, #T_0e6cf_row10_col0, #T_0e6cf_row11_col0, #T_0e6cf_row12_col0, #T_0e6cf_row13_col0, #T_0e6cf_row14_col0, #T_0e6cf_row15_col0, #T_0e6cf_row16_col0, #T_0e6cf_row17_col0, #T_0e6cf_row18_col0, #T_0e6cf_row19_col0, #T_0e6cf_row20_col0, #T_0e6cf_row21_col0, #T_0e6cf_row22_col0, #T_0e6cf_row23_col0, #T_0e6cf_row24_col0, #T_0e6cf_row25_col0, #T_0e6cf_row26_col0, #T_0e6cf_row27_col0, #T_0e6cf_row28_col0, #T_0e6cf_row29_col0, #T_0e6cf_row30_col0, #T_0e6cf_row31_col0, #T_0e6cf_row32_col0, #T_0e6cf_row33_col0, #T_0e6cf_row34_col0, #T_0e6cf_row35_col0, #T_0e6cf_row36_col0, #T_0e6cf_row37_col0, #T_0e6cf_row38_col0, #T_0e6cf_row39_col0, #T_0e6cf_row40_col0, #T_0e6cf_row41_col0, #T_0e6cf_row42_col0, #T_0e6cf_row43_col0, #T_0e6cf_row44_col0, #T_0e6cf_row45_col0 {\n",
              "  background-color: #3b4cc0;\n",
              "  color: #f1f1f1;\n",
              "}\n",
              "#T_0e6cf_row4_col0 {\n",
              "  background-color: #b40426;\n",
              "  color: #f1f1f1;\n",
              "}\n",
              "#T_0e6cf_row5_col0 {\n",
              "  background-color: #aec9fc;\n",
              "  color: #000000;\n",
              "}\n",
              "#T_0e6cf_row6_col0 {\n",
              "  background-color: #89acfd;\n",
              "  color: #000000;\n",
              "}\n",
              "</style>\n",
              "<table id=\"T_0e6cf\" class=\"dataframe\">\n",
              "  <thead>\n",
              "    <tr>\n",
              "      <th class=\"blank level0\" >&nbsp;</th>\n",
              "      <th id=\"T_0e6cf_level0_col0\" class=\"col_heading level0 col0\" >price</th>\n",
              "    </tr>\n",
              "  </thead>\n",
              "  <tbody>\n",
              "    <tr>\n",
              "      <th id=\"T_0e6cf_level0_row0\" class=\"row_heading level0 row0\" >timestamp</th>\n",
              "      <td id=\"T_0e6cf_row0_col0\" class=\"data row0 col0\" >0.000808</td>\n",
              "    </tr>\n",
              "    <tr>\n",
              "      <th id=\"T_0e6cf_level0_row1\" class=\"row_heading level0 row1\" >hour</th>\n",
              "      <td id=\"T_0e6cf_row1_col0\" class=\"data row1 col0\" >0.000561</td>\n",
              "    </tr>\n",
              "    <tr>\n",
              "      <th id=\"T_0e6cf_level0_row2\" class=\"row_heading level0 row2\" >day</th>\n",
              "      <td id=\"T_0e6cf_row2_col0\" class=\"data row2 col0\" >-0.000722</td>\n",
              "    </tr>\n",
              "    <tr>\n",
              "      <th id=\"T_0e6cf_level0_row3\" class=\"row_heading level0 row3\" >month</th>\n",
              "      <td id=\"T_0e6cf_row3_col0\" class=\"data row3 col0\" >0.000913</td>\n",
              "    </tr>\n",
              "    <tr>\n",
              "      <th id=\"T_0e6cf_level0_row4\" class=\"row_heading level0 row4\" >price</th>\n",
              "      <td id=\"T_0e6cf_row4_col0\" class=\"data row4 col0\" >1.000000</td>\n",
              "    </tr>\n",
              "    <tr>\n",
              "      <th id=\"T_0e6cf_level0_row5\" class=\"row_heading level0 row5\" >distance</th>\n",
              "      <td id=\"T_0e6cf_row5_col0\" class=\"data row5 col0\" >0.345061</td>\n",
              "    </tr>\n",
              "    <tr>\n",
              "      <th id=\"T_0e6cf_level0_row6\" class=\"row_heading level0 row6\" >surge_multiplier</th>\n",
              "      <td id=\"T_0e6cf_row6_col0\" class=\"data row6 col0\" >0.240458</td>\n",
              "    </tr>\n",
              "    <tr>\n",
              "      <th id=\"T_0e6cf_level0_row7\" class=\"row_heading level0 row7\" >latitude</th>\n",
              "      <td id=\"T_0e6cf_row7_col0\" class=\"data row7 col0\" >0.002088</td>\n",
              "    </tr>\n",
              "    <tr>\n",
              "      <th id=\"T_0e6cf_level0_row8\" class=\"row_heading level0 row8\" >longitude</th>\n",
              "      <td id=\"T_0e6cf_row8_col0\" class=\"data row8 col0\" >-0.001417</td>\n",
              "    </tr>\n",
              "    <tr>\n",
              "      <th id=\"T_0e6cf_level0_row9\" class=\"row_heading level0 row9\" >temperature</th>\n",
              "      <td id=\"T_0e6cf_row9_col0\" class=\"data row9 col0\" >-0.000084</td>\n",
              "    </tr>\n",
              "    <tr>\n",
              "      <th id=\"T_0e6cf_level0_row10\" class=\"row_heading level0 row10\" >apparentTemperature</th>\n",
              "      <td id=\"T_0e6cf_row10_col0\" class=\"data row10 col0\" >-0.000193</td>\n",
              "    </tr>\n",
              "    <tr>\n",
              "      <th id=\"T_0e6cf_level0_row11\" class=\"row_heading level0 row11\" >precipIntensity</th>\n",
              "      <td id=\"T_0e6cf_row11_col0\" class=\"data row11 col0\" >0.000166</td>\n",
              "    </tr>\n",
              "    <tr>\n",
              "      <th id=\"T_0e6cf_level0_row12\" class=\"row_heading level0 row12\" >precipProbability</th>\n",
              "      <td id=\"T_0e6cf_row12_col0\" class=\"data row12 col0\" >-0.000243</td>\n",
              "    </tr>\n",
              "    <tr>\n",
              "      <th id=\"T_0e6cf_level0_row13\" class=\"row_heading level0 row13\" >humidity</th>\n",
              "      <td id=\"T_0e6cf_row13_col0\" class=\"data row13 col0\" >-0.001238</td>\n",
              "    </tr>\n",
              "    <tr>\n",
              "      <th id=\"T_0e6cf_level0_row14\" class=\"row_heading level0 row14\" >windSpeed</th>\n",
              "      <td id=\"T_0e6cf_row14_col0\" class=\"data row14 col0\" >0.000990</td>\n",
              "    </tr>\n",
              "    <tr>\n",
              "      <th id=\"T_0e6cf_level0_row15\" class=\"row_heading level0 row15\" >windGust</th>\n",
              "      <td id=\"T_0e6cf_row15_col0\" class=\"data row15 col0\" >0.001218</td>\n",
              "    </tr>\n",
              "    <tr>\n",
              "      <th id=\"T_0e6cf_level0_row16\" class=\"row_heading level0 row16\" >windGustTime</th>\n",
              "      <td id=\"T_0e6cf_row16_col0\" class=\"data row16 col0\" >0.000851</td>\n",
              "    </tr>\n",
              "    <tr>\n",
              "      <th id=\"T_0e6cf_level0_row17\" class=\"row_heading level0 row17\" >visibility</th>\n",
              "      <td id=\"T_0e6cf_row17_col0\" class=\"data row17 col0\" >0.001497</td>\n",
              "    </tr>\n",
              "    <tr>\n",
              "      <th id=\"T_0e6cf_level0_row18\" class=\"row_heading level0 row18\" >temperatureHigh</th>\n",
              "      <td id=\"T_0e6cf_row18_col0\" class=\"data row18 col0\" >-0.000516</td>\n",
              "    </tr>\n",
              "    <tr>\n",
              "      <th id=\"T_0e6cf_level0_row19\" class=\"row_heading level0 row19\" >temperatureHighTime</th>\n",
              "      <td id=\"T_0e6cf_row19_col0\" class=\"data row19 col0\" >0.000759</td>\n",
              "    </tr>\n",
              "    <tr>\n",
              "      <th id=\"T_0e6cf_level0_row20\" class=\"row_heading level0 row20\" >temperatureLow</th>\n",
              "      <td id=\"T_0e6cf_row20_col0\" class=\"data row20 col0\" >0.000182</td>\n",
              "    </tr>\n",
              "    <tr>\n",
              "      <th id=\"T_0e6cf_level0_row21\" class=\"row_heading level0 row21\" >temperatureLowTime</th>\n",
              "      <td id=\"T_0e6cf_row21_col0\" class=\"data row21 col0\" >0.000754</td>\n",
              "    </tr>\n",
              "    <tr>\n",
              "      <th id=\"T_0e6cf_level0_row22\" class=\"row_heading level0 row22\" >apparentTemperatureHigh</th>\n",
              "      <td id=\"T_0e6cf_row22_col0\" class=\"data row22 col0\" >-0.000261</td>\n",
              "    </tr>\n",
              "    <tr>\n",
              "      <th id=\"T_0e6cf_level0_row23\" class=\"row_heading level0 row23\" >apparentTemperatureHighTime</th>\n",
              "      <td id=\"T_0e6cf_row23_col0\" class=\"data row23 col0\" >0.000741</td>\n",
              "    </tr>\n",
              "    <tr>\n",
              "      <th id=\"T_0e6cf_level0_row24\" class=\"row_heading level0 row24\" >apparentTemperatureLow</th>\n",
              "      <td id=\"T_0e6cf_row24_col0\" class=\"data row24 col0\" >0.000831</td>\n",
              "    </tr>\n",
              "    <tr>\n",
              "      <th id=\"T_0e6cf_level0_row25\" class=\"row_heading level0 row25\" >apparentTemperatureLowTime</th>\n",
              "      <td id=\"T_0e6cf_row25_col0\" class=\"data row25 col0\" >0.000761</td>\n",
              "    </tr>\n",
              "    <tr>\n",
              "      <th id=\"T_0e6cf_level0_row26\" class=\"row_heading level0 row26\" >dewPoint</th>\n",
              "      <td id=\"T_0e6cf_row26_col0\" class=\"data row26 col0\" >-0.000615</td>\n",
              "    </tr>\n",
              "    <tr>\n",
              "      <th id=\"T_0e6cf_level0_row27\" class=\"row_heading level0 row27\" >pressure</th>\n",
              "      <td id=\"T_0e6cf_row27_col0\" class=\"data row27 col0\" >0.000866</td>\n",
              "    </tr>\n",
              "    <tr>\n",
              "      <th id=\"T_0e6cf_level0_row28\" class=\"row_heading level0 row28\" >windBearing</th>\n",
              "      <td id=\"T_0e6cf_row28_col0\" class=\"data row28 col0\" >-0.001382</td>\n",
              "    </tr>\n",
              "    <tr>\n",
              "      <th id=\"T_0e6cf_level0_row29\" class=\"row_heading level0 row29\" >cloudCover</th>\n",
              "      <td id=\"T_0e6cf_row29_col0\" class=\"data row29 col0\" >0.000883</td>\n",
              "    </tr>\n",
              "    <tr>\n",
              "      <th id=\"T_0e6cf_level0_row30\" class=\"row_heading level0 row30\" >uvIndex</th>\n",
              "      <td id=\"T_0e6cf_row30_col0\" class=\"data row30 col0\" >-0.000424</td>\n",
              "    </tr>\n",
              "    <tr>\n",
              "      <th id=\"T_0e6cf_level0_row31\" class=\"row_heading level0 row31\" >visibility.1</th>\n",
              "      <td id=\"T_0e6cf_row31_col0\" class=\"data row31 col0\" >0.001497</td>\n",
              "    </tr>\n",
              "    <tr>\n",
              "      <th id=\"T_0e6cf_level0_row32\" class=\"row_heading level0 row32\" >ozone</th>\n",
              "      <td id=\"T_0e6cf_row32_col0\" class=\"data row32 col0\" >0.000460</td>\n",
              "    </tr>\n",
              "    <tr>\n",
              "      <th id=\"T_0e6cf_level0_row33\" class=\"row_heading level0 row33\" >sunriseTime</th>\n",
              "      <td id=\"T_0e6cf_row33_col0\" class=\"data row33 col0\" >0.000760</td>\n",
              "    </tr>\n",
              "    <tr>\n",
              "      <th id=\"T_0e6cf_level0_row34\" class=\"row_heading level0 row34\" >sunsetTime</th>\n",
              "      <td id=\"T_0e6cf_row34_col0\" class=\"data row34 col0\" >0.000760</td>\n",
              "    </tr>\n",
              "    <tr>\n",
              "      <th id=\"T_0e6cf_level0_row35\" class=\"row_heading level0 row35\" >moonPhase</th>\n",
              "      <td id=\"T_0e6cf_row35_col0\" class=\"data row35 col0\" >-0.001602</td>\n",
              "    </tr>\n",
              "    <tr>\n",
              "      <th id=\"T_0e6cf_level0_row36\" class=\"row_heading level0 row36\" >precipIntensityMax</th>\n",
              "      <td id=\"T_0e6cf_row36_col0\" class=\"data row36 col0\" >0.001114</td>\n",
              "    </tr>\n",
              "    <tr>\n",
              "      <th id=\"T_0e6cf_level0_row37\" class=\"row_heading level0 row37\" >uvIndexTime</th>\n",
              "      <td id=\"T_0e6cf_row37_col0\" class=\"data row37 col0\" >0.000763</td>\n",
              "    </tr>\n",
              "    <tr>\n",
              "      <th id=\"T_0e6cf_level0_row38\" class=\"row_heading level0 row38\" >temperatureMin</th>\n",
              "      <td id=\"T_0e6cf_row38_col0\" class=\"data row38 col0\" >-0.000428</td>\n",
              "    </tr>\n",
              "    <tr>\n",
              "      <th id=\"T_0e6cf_level0_row39\" class=\"row_heading level0 row39\" >temperatureMinTime</th>\n",
              "      <td id=\"T_0e6cf_row39_col0\" class=\"data row39 col0\" >0.000769</td>\n",
              "    </tr>\n",
              "    <tr>\n",
              "      <th id=\"T_0e6cf_level0_row40\" class=\"row_heading level0 row40\" >temperatureMax</th>\n",
              "      <td id=\"T_0e6cf_row40_col0\" class=\"data row40 col0\" >-0.000550</td>\n",
              "    </tr>\n",
              "    <tr>\n",
              "      <th id=\"T_0e6cf_level0_row41\" class=\"row_heading level0 row41\" >temperatureMaxTime</th>\n",
              "      <td id=\"T_0e6cf_row41_col0\" class=\"data row41 col0\" >0.000766</td>\n",
              "    </tr>\n",
              "    <tr>\n",
              "      <th id=\"T_0e6cf_level0_row42\" class=\"row_heading level0 row42\" >apparentTemperatureMin</th>\n",
              "      <td id=\"T_0e6cf_row42_col0\" class=\"data row42 col0\" >-0.000580</td>\n",
              "    </tr>\n",
              "    <tr>\n",
              "      <th id=\"T_0e6cf_level0_row43\" class=\"row_heading level0 row43\" >apparentTemperatureMinTime</th>\n",
              "      <td id=\"T_0e6cf_row43_col0\" class=\"data row43 col0\" >0.000814</td>\n",
              "    </tr>\n",
              "    <tr>\n",
              "      <th id=\"T_0e6cf_level0_row44\" class=\"row_heading level0 row44\" >apparentTemperatureMax</th>\n",
              "      <td id=\"T_0e6cf_row44_col0\" class=\"data row44 col0\" >-0.000290</td>\n",
              "    </tr>\n",
              "    <tr>\n",
              "      <th id=\"T_0e6cf_level0_row45\" class=\"row_heading level0 row45\" >apparentTemperatureMaxTime</th>\n",
              "      <td id=\"T_0e6cf_row45_col0\" class=\"data row45 col0\" >0.000746</td>\n",
              "    </tr>\n",
              "  </tbody>\n",
              "</table>\n"
            ]
          },
          "metadata": {},
          "execution_count": 18
        }
      ]
    },
    {
      "cell_type": "markdown",
      "source": [
        "#Data Engineering\n",
        "By using the domain knowledge, correlation map, visualization and relationship, features can be selected that correspond to target variable."
      ],
      "metadata": {
        "id": "YyD49HsfILkN"
      }
    },
    {
      "cell_type": "code",
      "source": [
        "temp_time_cols = ['temperatureHigh','temperatureHighTime', 'temperatureLow', 'temperatureLowTime',\n",
        " 'apparentTemperatureHigh', 'apparentTemperatureHighTime',\n",
        " 'apparentTemperatureLow', 'apparentTemperatureLowTime',\n",
        " 'temperatureMin', 'temperatureMinTime', 'temperatureMax','temperatureMaxTime',\n",
        " 'apparentTemperatureMin','apparentTemperatureMinTime',\n",
        " 'apparentTemperatureMax','apparentTemperatureMaxTime',\n",
        " 'uvIndexTime', 'windGustTime', 'sunriseTime','sunsetTime',\n",
        " 'latitude','longitude'\n",
        "]\n",
        "rides_data = rides_data.drop(temp_time_cols, axis=1)\n",
        "\n",
        "\n",
        "climate_col = ['precipIntensity', 'precipProbability', 'humidity', 'windSpeed',\n",
        "       'windGust', 'visibility', 'dewPoint', 'pressure', 'windBearing',\n",
        "       'cloudCover', 'uvIndex', 'ozone', 'moonPhase',\n",
        "       'precipIntensityMax']\n",
        "rides_data = rides_data.drop(climate_col,axis=1)\n",
        "\n",
        "\n",
        "rides_data = rides_data.drop(['product_id','short_summary', 'icon', 'id',\n",
        "                              'datetime', 'timezone', 'timestamp',\n",
        "                              'long_summary', 'visibility.1'],axis=1)"
      ],
      "metadata": {
        "id": "_q7S1xhJufsR"
      },
      "execution_count": 19,
      "outputs": []
    },
    {
      "cell_type": "code",
      "source": [
        "rides_data.info()"
      ],
      "metadata": {
        "colab": {
          "base_uri": "https://localhost:8080/"
        },
        "id": "ZyR9KtIj4Ay0",
        "outputId": "cc542dd6-298c-4688-a32a-16f61087133c"
      },
      "execution_count": 20,
      "outputs": [
        {
          "output_type": "stream",
          "name": "stdout",
          "text": [
            "<class 'pandas.core.frame.DataFrame'>\n",
            "Int64Index: 637976 entries, 0 to 693070\n",
            "Data columns (total 12 columns):\n",
            " #   Column               Non-Null Count   Dtype  \n",
            "---  ------               --------------   -----  \n",
            " 0   hour                 637976 non-null  int64  \n",
            " 1   day                  637976 non-null  int64  \n",
            " 2   month                637976 non-null  int64  \n",
            " 3   source               637976 non-null  object \n",
            " 4   destination          637976 non-null  object \n",
            " 5   cab_type             637976 non-null  object \n",
            " 6   name                 637976 non-null  object \n",
            " 7   price                637976 non-null  float64\n",
            " 8   distance             637976 non-null  float64\n",
            " 9   surge_multiplier     637976 non-null  float64\n",
            " 10  temperature          637976 non-null  float64\n",
            " 11  apparentTemperature  637976 non-null  float64\n",
            "dtypes: float64(5), int64(3), object(4)\n",
            "memory usage: 63.3+ MB\n"
          ]
        }
      ]
    },
    {
      "cell_type": "markdown",
      "source": [
        "# Data Preparation and Data Saggregation/Split\n",
        "Select the numerical columns which can be used for scaling (Normalization) and categorical columns are chosen for one hot encodding."
      ],
      "metadata": {
        "id": "m5bOYFEiqF98"
      }
    },
    {
      "cell_type": "code",
      "source": [
        "scale_columns = rides_data.select_dtypes(include=['int64','float64']).columns.tolist()\n",
        "scale_columns"
      ],
      "metadata": {
        "colab": {
          "base_uri": "https://localhost:8080/"
        },
        "id": "UiCelY3UqlEe",
        "outputId": "ff8a6b89-cc0f-44c1-ea15-fa6d1d27337e"
      },
      "execution_count": 21,
      "outputs": [
        {
          "output_type": "execute_result",
          "data": {
            "text/plain": [
              "['hour',\n",
              " 'day',\n",
              " 'month',\n",
              " 'price',\n",
              " 'distance',\n",
              " 'surge_multiplier',\n",
              " 'temperature',\n",
              " 'apparentTemperature']"
            ]
          },
          "metadata": {},
          "execution_count": 21
        }
      ]
    },
    {
      "cell_type": "code",
      "source": [
        "cat_col = rides_data.select_dtypes(include=['object','category']).columns.tolist()\n",
        "cat_col"
      ],
      "metadata": {
        "colab": {
          "base_uri": "https://localhost:8080/"
        },
        "id": "U1SVXNdKvSvO",
        "outputId": "47d161a8-976a-463b-c804-f4ff1a465fe1"
      },
      "execution_count": 22,
      "outputs": [
        {
          "output_type": "execute_result",
          "data": {
            "text/plain": [
              "['source', 'destination', 'cab_type', 'name']"
            ]
          },
          "metadata": {},
          "execution_count": 22
        }
      ]
    },
    {
      "cell_type": "code",
      "source": [
        "dummy_features = pd.get_dummies(rides_data[cat_col], drop_first=True)\n",
        "rides_data = pd.concat([rides_data, dummy_features], axis=1)\n",
        "rides_data = rides_data.drop(cat_col, axis=1)\n",
        "rides_data.head()"
      ],
      "metadata": {
        "colab": {
          "base_uri": "https://localhost:8080/",
          "height": 273
        },
        "id": "q9SkhWTJvWV9",
        "outputId": "62aad353-030f-436f-db00-3488b48d7b7d"
      },
      "execution_count": 23,
      "outputs": [
        {
          "output_type": "execute_result",
          "data": {
            "text/plain": [
              "   hour  day  month  price  distance  surge_multiplier  temperature  \\\n",
              "0     9   16     12    5.0      0.44               1.0        42.34   \n",
              "1     2   27     11   11.0      0.44               1.0        43.58   \n",
              "2     1   28     11    7.0      0.44               1.0        38.33   \n",
              "3     4   30     11   26.0      0.44               1.0        34.38   \n",
              "4     3   29     11    9.0      0.44               1.0        37.44   \n",
              "\n",
              "   apparentTemperature  source_Beacon Hill  source_Boston University  ...  \\\n",
              "0                37.12                   0                         0  ...   \n",
              "1                37.35                   0                         0  ...   \n",
              "2                32.93                   0                         0  ...   \n",
              "3                29.63                   0                         0  ...   \n",
              "4                30.88                   0                         0  ...   \n",
              "\n",
              "   name_Lux  name_Lux Black  name_Lux Black XL  name_Lyft  name_Lyft XL  \\\n",
              "0         0               0                  0          0             0   \n",
              "1         1               0                  0          0             0   \n",
              "2         0               0                  0          1             0   \n",
              "3         0               0                  1          0             0   \n",
              "4         0               0                  0          0             1   \n",
              "\n",
              "   name_Shared  name_UberPool  name_UberX  name_UberXL  name_WAV  \n",
              "0            1              0           0            0         0  \n",
              "1            0              0           0            0         0  \n",
              "2            0              0           0            0         0  \n",
              "3            0              0           0            0         0  \n",
              "4            0              0           0            0         0  \n",
              "\n",
              "[5 rows x 42 columns]"
            ],
            "text/html": [
              "\n",
              "  <div id=\"df-be1d11fa-3b81-4c80-a70d-828656e1d644\" class=\"colab-df-container\">\n",
              "    <div>\n",
              "<style scoped>\n",
              "    .dataframe tbody tr th:only-of-type {\n",
              "        vertical-align: middle;\n",
              "    }\n",
              "\n",
              "    .dataframe tbody tr th {\n",
              "        vertical-align: top;\n",
              "    }\n",
              "\n",
              "    .dataframe thead th {\n",
              "        text-align: right;\n",
              "    }\n",
              "</style>\n",
              "<table border=\"1\" class=\"dataframe\">\n",
              "  <thead>\n",
              "    <tr style=\"text-align: right;\">\n",
              "      <th></th>\n",
              "      <th>hour</th>\n",
              "      <th>day</th>\n",
              "      <th>month</th>\n",
              "      <th>price</th>\n",
              "      <th>distance</th>\n",
              "      <th>surge_multiplier</th>\n",
              "      <th>temperature</th>\n",
              "      <th>apparentTemperature</th>\n",
              "      <th>source_Beacon Hill</th>\n",
              "      <th>source_Boston University</th>\n",
              "      <th>...</th>\n",
              "      <th>name_Lux</th>\n",
              "      <th>name_Lux Black</th>\n",
              "      <th>name_Lux Black XL</th>\n",
              "      <th>name_Lyft</th>\n",
              "      <th>name_Lyft XL</th>\n",
              "      <th>name_Shared</th>\n",
              "      <th>name_UberPool</th>\n",
              "      <th>name_UberX</th>\n",
              "      <th>name_UberXL</th>\n",
              "      <th>name_WAV</th>\n",
              "    </tr>\n",
              "  </thead>\n",
              "  <tbody>\n",
              "    <tr>\n",
              "      <th>0</th>\n",
              "      <td>9</td>\n",
              "      <td>16</td>\n",
              "      <td>12</td>\n",
              "      <td>5.0</td>\n",
              "      <td>0.44</td>\n",
              "      <td>1.0</td>\n",
              "      <td>42.34</td>\n",
              "      <td>37.12</td>\n",
              "      <td>0</td>\n",
              "      <td>0</td>\n",
              "      <td>...</td>\n",
              "      <td>0</td>\n",
              "      <td>0</td>\n",
              "      <td>0</td>\n",
              "      <td>0</td>\n",
              "      <td>0</td>\n",
              "      <td>1</td>\n",
              "      <td>0</td>\n",
              "      <td>0</td>\n",
              "      <td>0</td>\n",
              "      <td>0</td>\n",
              "    </tr>\n",
              "    <tr>\n",
              "      <th>1</th>\n",
              "      <td>2</td>\n",
              "      <td>27</td>\n",
              "      <td>11</td>\n",
              "      <td>11.0</td>\n",
              "      <td>0.44</td>\n",
              "      <td>1.0</td>\n",
              "      <td>43.58</td>\n",
              "      <td>37.35</td>\n",
              "      <td>0</td>\n",
              "      <td>0</td>\n",
              "      <td>...</td>\n",
              "      <td>1</td>\n",
              "      <td>0</td>\n",
              "      <td>0</td>\n",
              "      <td>0</td>\n",
              "      <td>0</td>\n",
              "      <td>0</td>\n",
              "      <td>0</td>\n",
              "      <td>0</td>\n",
              "      <td>0</td>\n",
              "      <td>0</td>\n",
              "    </tr>\n",
              "    <tr>\n",
              "      <th>2</th>\n",
              "      <td>1</td>\n",
              "      <td>28</td>\n",
              "      <td>11</td>\n",
              "      <td>7.0</td>\n",
              "      <td>0.44</td>\n",
              "      <td>1.0</td>\n",
              "      <td>38.33</td>\n",
              "      <td>32.93</td>\n",
              "      <td>0</td>\n",
              "      <td>0</td>\n",
              "      <td>...</td>\n",
              "      <td>0</td>\n",
              "      <td>0</td>\n",
              "      <td>0</td>\n",
              "      <td>1</td>\n",
              "      <td>0</td>\n",
              "      <td>0</td>\n",
              "      <td>0</td>\n",
              "      <td>0</td>\n",
              "      <td>0</td>\n",
              "      <td>0</td>\n",
              "    </tr>\n",
              "    <tr>\n",
              "      <th>3</th>\n",
              "      <td>4</td>\n",
              "      <td>30</td>\n",
              "      <td>11</td>\n",
              "      <td>26.0</td>\n",
              "      <td>0.44</td>\n",
              "      <td>1.0</td>\n",
              "      <td>34.38</td>\n",
              "      <td>29.63</td>\n",
              "      <td>0</td>\n",
              "      <td>0</td>\n",
              "      <td>...</td>\n",
              "      <td>0</td>\n",
              "      <td>0</td>\n",
              "      <td>1</td>\n",
              "      <td>0</td>\n",
              "      <td>0</td>\n",
              "      <td>0</td>\n",
              "      <td>0</td>\n",
              "      <td>0</td>\n",
              "      <td>0</td>\n",
              "      <td>0</td>\n",
              "    </tr>\n",
              "    <tr>\n",
              "      <th>4</th>\n",
              "      <td>3</td>\n",
              "      <td>29</td>\n",
              "      <td>11</td>\n",
              "      <td>9.0</td>\n",
              "      <td>0.44</td>\n",
              "      <td>1.0</td>\n",
              "      <td>37.44</td>\n",
              "      <td>30.88</td>\n",
              "      <td>0</td>\n",
              "      <td>0</td>\n",
              "      <td>...</td>\n",
              "      <td>0</td>\n",
              "      <td>0</td>\n",
              "      <td>0</td>\n",
              "      <td>0</td>\n",
              "      <td>1</td>\n",
              "      <td>0</td>\n",
              "      <td>0</td>\n",
              "      <td>0</td>\n",
              "      <td>0</td>\n",
              "      <td>0</td>\n",
              "    </tr>\n",
              "  </tbody>\n",
              "</table>\n",
              "<p>5 rows × 42 columns</p>\n",
              "</div>\n",
              "    <div class=\"colab-df-buttons\">\n",
              "\n",
              "  <div class=\"colab-df-container\">\n",
              "    <button class=\"colab-df-convert\" onclick=\"convertToInteractive('df-be1d11fa-3b81-4c80-a70d-828656e1d644')\"\n",
              "            title=\"Convert this dataframe to an interactive table.\"\n",
              "            style=\"display:none;\">\n",
              "\n",
              "  <svg xmlns=\"http://www.w3.org/2000/svg\" height=\"24px\" viewBox=\"0 -960 960 960\">\n",
              "    <path d=\"M120-120v-720h720v720H120Zm60-500h600v-160H180v160Zm220 220h160v-160H400v160Zm0 220h160v-160H400v160ZM180-400h160v-160H180v160Zm440 0h160v-160H620v160ZM180-180h160v-160H180v160Zm440 0h160v-160H620v160Z\"/>\n",
              "  </svg>\n",
              "    </button>\n",
              "\n",
              "  <style>\n",
              "    .colab-df-container {\n",
              "      display:flex;\n",
              "      gap: 12px;\n",
              "    }\n",
              "\n",
              "    .colab-df-convert {\n",
              "      background-color: #E8F0FE;\n",
              "      border: none;\n",
              "      border-radius: 50%;\n",
              "      cursor: pointer;\n",
              "      display: none;\n",
              "      fill: #1967D2;\n",
              "      height: 32px;\n",
              "      padding: 0 0 0 0;\n",
              "      width: 32px;\n",
              "    }\n",
              "\n",
              "    .colab-df-convert:hover {\n",
              "      background-color: #E2EBFA;\n",
              "      box-shadow: 0px 1px 2px rgba(60, 64, 67, 0.3), 0px 1px 3px 1px rgba(60, 64, 67, 0.15);\n",
              "      fill: #174EA6;\n",
              "    }\n",
              "\n",
              "    .colab-df-buttons div {\n",
              "      margin-bottom: 4px;\n",
              "    }\n",
              "\n",
              "    [theme=dark] .colab-df-convert {\n",
              "      background-color: #3B4455;\n",
              "      fill: #D2E3FC;\n",
              "    }\n",
              "\n",
              "    [theme=dark] .colab-df-convert:hover {\n",
              "      background-color: #434B5C;\n",
              "      box-shadow: 0px 1px 3px 1px rgba(0, 0, 0, 0.15);\n",
              "      filter: drop-shadow(0px 1px 2px rgba(0, 0, 0, 0.3));\n",
              "      fill: #FFFFFF;\n",
              "    }\n",
              "  </style>\n",
              "\n",
              "    <script>\n",
              "      const buttonEl =\n",
              "        document.querySelector('#df-be1d11fa-3b81-4c80-a70d-828656e1d644 button.colab-df-convert');\n",
              "      buttonEl.style.display =\n",
              "        google.colab.kernel.accessAllowed ? 'block' : 'none';\n",
              "\n",
              "      async function convertToInteractive(key) {\n",
              "        const element = document.querySelector('#df-be1d11fa-3b81-4c80-a70d-828656e1d644');\n",
              "        const dataTable =\n",
              "          await google.colab.kernel.invokeFunction('convertToInteractive',\n",
              "                                                    [key], {});\n",
              "        if (!dataTable) return;\n",
              "\n",
              "        const docLinkHtml = 'Like what you see? Visit the ' +\n",
              "          '<a target=\"_blank\" href=https://colab.research.google.com/notebooks/data_table.ipynb>data table notebook</a>'\n",
              "          + ' to learn more about interactive tables.';\n",
              "        element.innerHTML = '';\n",
              "        dataTable['output_type'] = 'display_data';\n",
              "        await google.colab.output.renderOutput(dataTable, element);\n",
              "        const docLink = document.createElement('div');\n",
              "        docLink.innerHTML = docLinkHtml;\n",
              "        element.appendChild(docLink);\n",
              "      }\n",
              "    </script>\n",
              "  </div>\n",
              "\n",
              "\n",
              "<div id=\"df-81b0d39d-8734-4e80-8baf-ba0f1d114adc\">\n",
              "  <button class=\"colab-df-quickchart\" onclick=\"quickchart('df-81b0d39d-8734-4e80-8baf-ba0f1d114adc')\"\n",
              "            title=\"Suggest charts.\"\n",
              "            style=\"display:none;\">\n",
              "\n",
              "<svg xmlns=\"http://www.w3.org/2000/svg\" height=\"24px\"viewBox=\"0 0 24 24\"\n",
              "     width=\"24px\">\n",
              "    <g>\n",
              "        <path d=\"M19 3H5c-1.1 0-2 .9-2 2v14c0 1.1.9 2 2 2h14c1.1 0 2-.9 2-2V5c0-1.1-.9-2-2-2zM9 17H7v-7h2v7zm4 0h-2V7h2v10zm4 0h-2v-4h2v4z\"/>\n",
              "    </g>\n",
              "</svg>\n",
              "  </button>\n",
              "\n",
              "<style>\n",
              "  .colab-df-quickchart {\n",
              "      --bg-color: #E8F0FE;\n",
              "      --fill-color: #1967D2;\n",
              "      --hover-bg-color: #E2EBFA;\n",
              "      --hover-fill-color: #174EA6;\n",
              "      --disabled-fill-color: #AAA;\n",
              "      --disabled-bg-color: #DDD;\n",
              "  }\n",
              "\n",
              "  [theme=dark] .colab-df-quickchart {\n",
              "      --bg-color: #3B4455;\n",
              "      --fill-color: #D2E3FC;\n",
              "      --hover-bg-color: #434B5C;\n",
              "      --hover-fill-color: #FFFFFF;\n",
              "      --disabled-bg-color: #3B4455;\n",
              "      --disabled-fill-color: #666;\n",
              "  }\n",
              "\n",
              "  .colab-df-quickchart {\n",
              "    background-color: var(--bg-color);\n",
              "    border: none;\n",
              "    border-radius: 50%;\n",
              "    cursor: pointer;\n",
              "    display: none;\n",
              "    fill: var(--fill-color);\n",
              "    height: 32px;\n",
              "    padding: 0;\n",
              "    width: 32px;\n",
              "  }\n",
              "\n",
              "  .colab-df-quickchart:hover {\n",
              "    background-color: var(--hover-bg-color);\n",
              "    box-shadow: 0 1px 2px rgba(60, 64, 67, 0.3), 0 1px 3px 1px rgba(60, 64, 67, 0.15);\n",
              "    fill: var(--button-hover-fill-color);\n",
              "  }\n",
              "\n",
              "  .colab-df-quickchart-complete:disabled,\n",
              "  .colab-df-quickchart-complete:disabled:hover {\n",
              "    background-color: var(--disabled-bg-color);\n",
              "    fill: var(--disabled-fill-color);\n",
              "    box-shadow: none;\n",
              "  }\n",
              "\n",
              "  .colab-df-spinner {\n",
              "    border: 2px solid var(--fill-color);\n",
              "    border-color: transparent;\n",
              "    border-bottom-color: var(--fill-color);\n",
              "    animation:\n",
              "      spin 1s steps(1) infinite;\n",
              "  }\n",
              "\n",
              "  @keyframes spin {\n",
              "    0% {\n",
              "      border-color: transparent;\n",
              "      border-bottom-color: var(--fill-color);\n",
              "      border-left-color: var(--fill-color);\n",
              "    }\n",
              "    20% {\n",
              "      border-color: transparent;\n",
              "      border-left-color: var(--fill-color);\n",
              "      border-top-color: var(--fill-color);\n",
              "    }\n",
              "    30% {\n",
              "      border-color: transparent;\n",
              "      border-left-color: var(--fill-color);\n",
              "      border-top-color: var(--fill-color);\n",
              "      border-right-color: var(--fill-color);\n",
              "    }\n",
              "    40% {\n",
              "      border-color: transparent;\n",
              "      border-right-color: var(--fill-color);\n",
              "      border-top-color: var(--fill-color);\n",
              "    }\n",
              "    60% {\n",
              "      border-color: transparent;\n",
              "      border-right-color: var(--fill-color);\n",
              "    }\n",
              "    80% {\n",
              "      border-color: transparent;\n",
              "      border-right-color: var(--fill-color);\n",
              "      border-bottom-color: var(--fill-color);\n",
              "    }\n",
              "    90% {\n",
              "      border-color: transparent;\n",
              "      border-bottom-color: var(--fill-color);\n",
              "    }\n",
              "  }\n",
              "</style>\n",
              "\n",
              "  <script>\n",
              "    async function quickchart(key) {\n",
              "      const quickchartButtonEl =\n",
              "        document.querySelector('#' + key + ' button');\n",
              "      quickchartButtonEl.disabled = true;  // To prevent multiple clicks.\n",
              "      quickchartButtonEl.classList.add('colab-df-spinner');\n",
              "      try {\n",
              "        const charts = await google.colab.kernel.invokeFunction(\n",
              "            'suggestCharts', [key], {});\n",
              "      } catch (error) {\n",
              "        console.error('Error during call to suggestCharts:', error);\n",
              "      }\n",
              "      quickchartButtonEl.classList.remove('colab-df-spinner');\n",
              "      quickchartButtonEl.classList.add('colab-df-quickchart-complete');\n",
              "    }\n",
              "    (() => {\n",
              "      let quickchartButtonEl =\n",
              "        document.querySelector('#df-81b0d39d-8734-4e80-8baf-ba0f1d114adc button');\n",
              "      quickchartButtonEl.style.display =\n",
              "        google.colab.kernel.accessAllowed ? 'block' : 'none';\n",
              "    })();\n",
              "  </script>\n",
              "</div>\n",
              "    </div>\n",
              "  </div>\n"
            ]
          },
          "metadata": {},
          "execution_count": 23
        }
      ]
    },
    {
      "cell_type": "code",
      "source": [
        "rides_data.sort_index()"
      ],
      "metadata": {
        "colab": {
          "base_uri": "https://localhost:8080/",
          "height": 461
        },
        "id": "1Thgp3S5yppp",
        "outputId": "0cf4ccc0-fc63-44eb-f057-c1534bd1d359"
      },
      "execution_count": 24,
      "outputs": [
        {
          "output_type": "execute_result",
          "data": {
            "text/plain": [
              "        hour  day  month  price  distance  surge_multiplier  temperature  \\\n",
              "0          9   16     12    5.0      0.44               1.0        42.34   \n",
              "1          2   27     11   11.0      0.44               1.0        43.58   \n",
              "2          1   28     11    7.0      0.44               1.0        38.33   \n",
              "3          4   30     11   26.0      0.44               1.0        34.38   \n",
              "4          3   29     11    9.0      0.44               1.0        37.44   \n",
              "...      ...  ...    ...    ...       ...               ...          ...   \n",
              "693065    23    1     12    9.5      1.00               1.0        37.05   \n",
              "693066    23    1     12   13.0      1.00               1.0        37.05   \n",
              "693067    23    1     12    9.5      1.00               1.0        37.05   \n",
              "693069    23    1     12   27.0      1.00               1.0        37.05   \n",
              "693070    23    1     12   10.0      1.00               1.0        37.05   \n",
              "\n",
              "        apparentTemperature  source_Beacon Hill  source_Boston University  \\\n",
              "0                     37.12                   0                         0   \n",
              "1                     37.35                   0                         0   \n",
              "2                     32.93                   0                         0   \n",
              "3                     29.63                   0                         0   \n",
              "4                     30.88                   0                         0   \n",
              "...                     ...                 ...                       ...   \n",
              "693065                37.05                   0                         0   \n",
              "693066                37.05                   0                         0   \n",
              "693067                37.05                   0                         0   \n",
              "693069                37.05                   0                         0   \n",
              "693070                37.05                   0                         0   \n",
              "\n",
              "        ...  name_Lux  name_Lux Black  name_Lux Black XL  name_Lyft  \\\n",
              "0       ...         0               0                  0          0   \n",
              "1       ...         1               0                  0          0   \n",
              "2       ...         0               0                  0          1   \n",
              "3       ...         0               0                  1          0   \n",
              "4       ...         0               0                  0          0   \n",
              "...     ...       ...             ...                ...        ...   \n",
              "693065  ...         0               0                  0          0   \n",
              "693066  ...         0               0                  0          0   \n",
              "693067  ...         0               0                  0          0   \n",
              "693069  ...         0               0                  0          0   \n",
              "693070  ...         0               0                  0          0   \n",
              "\n",
              "        name_Lyft XL  name_Shared  name_UberPool  name_UberX  name_UberXL  \\\n",
              "0                  0            1              0           0            0   \n",
              "1                  0            0              0           0            0   \n",
              "2                  0            0              0           0            0   \n",
              "3                  0            0              0           0            0   \n",
              "4                  1            0              0           0            0   \n",
              "...              ...          ...            ...         ...          ...   \n",
              "693065             0            0              0           0            0   \n",
              "693066             0            0              0           0            1   \n",
              "693067             0            0              0           1            0   \n",
              "693069             0            0              0           0            0   \n",
              "693070             0            0              1           0            0   \n",
              "\n",
              "        name_WAV  \n",
              "0              0  \n",
              "1              0  \n",
              "2              0  \n",
              "3              0  \n",
              "4              0  \n",
              "...          ...  \n",
              "693065         1  \n",
              "693066         0  \n",
              "693067         0  \n",
              "693069         0  \n",
              "693070         0  \n",
              "\n",
              "[637976 rows x 42 columns]"
            ],
            "text/html": [
              "\n",
              "  <div id=\"df-912d91d9-0b7f-4744-be03-ede77d7f8d98\" class=\"colab-df-container\">\n",
              "    <div>\n",
              "<style scoped>\n",
              "    .dataframe tbody tr th:only-of-type {\n",
              "        vertical-align: middle;\n",
              "    }\n",
              "\n",
              "    .dataframe tbody tr th {\n",
              "        vertical-align: top;\n",
              "    }\n",
              "\n",
              "    .dataframe thead th {\n",
              "        text-align: right;\n",
              "    }\n",
              "</style>\n",
              "<table border=\"1\" class=\"dataframe\">\n",
              "  <thead>\n",
              "    <tr style=\"text-align: right;\">\n",
              "      <th></th>\n",
              "      <th>hour</th>\n",
              "      <th>day</th>\n",
              "      <th>month</th>\n",
              "      <th>price</th>\n",
              "      <th>distance</th>\n",
              "      <th>surge_multiplier</th>\n",
              "      <th>temperature</th>\n",
              "      <th>apparentTemperature</th>\n",
              "      <th>source_Beacon Hill</th>\n",
              "      <th>source_Boston University</th>\n",
              "      <th>...</th>\n",
              "      <th>name_Lux</th>\n",
              "      <th>name_Lux Black</th>\n",
              "      <th>name_Lux Black XL</th>\n",
              "      <th>name_Lyft</th>\n",
              "      <th>name_Lyft XL</th>\n",
              "      <th>name_Shared</th>\n",
              "      <th>name_UberPool</th>\n",
              "      <th>name_UberX</th>\n",
              "      <th>name_UberXL</th>\n",
              "      <th>name_WAV</th>\n",
              "    </tr>\n",
              "  </thead>\n",
              "  <tbody>\n",
              "    <tr>\n",
              "      <th>0</th>\n",
              "      <td>9</td>\n",
              "      <td>16</td>\n",
              "      <td>12</td>\n",
              "      <td>5.0</td>\n",
              "      <td>0.44</td>\n",
              "      <td>1.0</td>\n",
              "      <td>42.34</td>\n",
              "      <td>37.12</td>\n",
              "      <td>0</td>\n",
              "      <td>0</td>\n",
              "      <td>...</td>\n",
              "      <td>0</td>\n",
              "      <td>0</td>\n",
              "      <td>0</td>\n",
              "      <td>0</td>\n",
              "      <td>0</td>\n",
              "      <td>1</td>\n",
              "      <td>0</td>\n",
              "      <td>0</td>\n",
              "      <td>0</td>\n",
              "      <td>0</td>\n",
              "    </tr>\n",
              "    <tr>\n",
              "      <th>1</th>\n",
              "      <td>2</td>\n",
              "      <td>27</td>\n",
              "      <td>11</td>\n",
              "      <td>11.0</td>\n",
              "      <td>0.44</td>\n",
              "      <td>1.0</td>\n",
              "      <td>43.58</td>\n",
              "      <td>37.35</td>\n",
              "      <td>0</td>\n",
              "      <td>0</td>\n",
              "      <td>...</td>\n",
              "      <td>1</td>\n",
              "      <td>0</td>\n",
              "      <td>0</td>\n",
              "      <td>0</td>\n",
              "      <td>0</td>\n",
              "      <td>0</td>\n",
              "      <td>0</td>\n",
              "      <td>0</td>\n",
              "      <td>0</td>\n",
              "      <td>0</td>\n",
              "    </tr>\n",
              "    <tr>\n",
              "      <th>2</th>\n",
              "      <td>1</td>\n",
              "      <td>28</td>\n",
              "      <td>11</td>\n",
              "      <td>7.0</td>\n",
              "      <td>0.44</td>\n",
              "      <td>1.0</td>\n",
              "      <td>38.33</td>\n",
              "      <td>32.93</td>\n",
              "      <td>0</td>\n",
              "      <td>0</td>\n",
              "      <td>...</td>\n",
              "      <td>0</td>\n",
              "      <td>0</td>\n",
              "      <td>0</td>\n",
              "      <td>1</td>\n",
              "      <td>0</td>\n",
              "      <td>0</td>\n",
              "      <td>0</td>\n",
              "      <td>0</td>\n",
              "      <td>0</td>\n",
              "      <td>0</td>\n",
              "    </tr>\n",
              "    <tr>\n",
              "      <th>3</th>\n",
              "      <td>4</td>\n",
              "      <td>30</td>\n",
              "      <td>11</td>\n",
              "      <td>26.0</td>\n",
              "      <td>0.44</td>\n",
              "      <td>1.0</td>\n",
              "      <td>34.38</td>\n",
              "      <td>29.63</td>\n",
              "      <td>0</td>\n",
              "      <td>0</td>\n",
              "      <td>...</td>\n",
              "      <td>0</td>\n",
              "      <td>0</td>\n",
              "      <td>1</td>\n",
              "      <td>0</td>\n",
              "      <td>0</td>\n",
              "      <td>0</td>\n",
              "      <td>0</td>\n",
              "      <td>0</td>\n",
              "      <td>0</td>\n",
              "      <td>0</td>\n",
              "    </tr>\n",
              "    <tr>\n",
              "      <th>4</th>\n",
              "      <td>3</td>\n",
              "      <td>29</td>\n",
              "      <td>11</td>\n",
              "      <td>9.0</td>\n",
              "      <td>0.44</td>\n",
              "      <td>1.0</td>\n",
              "      <td>37.44</td>\n",
              "      <td>30.88</td>\n",
              "      <td>0</td>\n",
              "      <td>0</td>\n",
              "      <td>...</td>\n",
              "      <td>0</td>\n",
              "      <td>0</td>\n",
              "      <td>0</td>\n",
              "      <td>0</td>\n",
              "      <td>1</td>\n",
              "      <td>0</td>\n",
              "      <td>0</td>\n",
              "      <td>0</td>\n",
              "      <td>0</td>\n",
              "      <td>0</td>\n",
              "    </tr>\n",
              "    <tr>\n",
              "      <th>...</th>\n",
              "      <td>...</td>\n",
              "      <td>...</td>\n",
              "      <td>...</td>\n",
              "      <td>...</td>\n",
              "      <td>...</td>\n",
              "      <td>...</td>\n",
              "      <td>...</td>\n",
              "      <td>...</td>\n",
              "      <td>...</td>\n",
              "      <td>...</td>\n",
              "      <td>...</td>\n",
              "      <td>...</td>\n",
              "      <td>...</td>\n",
              "      <td>...</td>\n",
              "      <td>...</td>\n",
              "      <td>...</td>\n",
              "      <td>...</td>\n",
              "      <td>...</td>\n",
              "      <td>...</td>\n",
              "      <td>...</td>\n",
              "      <td>...</td>\n",
              "    </tr>\n",
              "    <tr>\n",
              "      <th>693065</th>\n",
              "      <td>23</td>\n",
              "      <td>1</td>\n",
              "      <td>12</td>\n",
              "      <td>9.5</td>\n",
              "      <td>1.00</td>\n",
              "      <td>1.0</td>\n",
              "      <td>37.05</td>\n",
              "      <td>37.05</td>\n",
              "      <td>0</td>\n",
              "      <td>0</td>\n",
              "      <td>...</td>\n",
              "      <td>0</td>\n",
              "      <td>0</td>\n",
              "      <td>0</td>\n",
              "      <td>0</td>\n",
              "      <td>0</td>\n",
              "      <td>0</td>\n",
              "      <td>0</td>\n",
              "      <td>0</td>\n",
              "      <td>0</td>\n",
              "      <td>1</td>\n",
              "    </tr>\n",
              "    <tr>\n",
              "      <th>693066</th>\n",
              "      <td>23</td>\n",
              "      <td>1</td>\n",
              "      <td>12</td>\n",
              "      <td>13.0</td>\n",
              "      <td>1.00</td>\n",
              "      <td>1.0</td>\n",
              "      <td>37.05</td>\n",
              "      <td>37.05</td>\n",
              "      <td>0</td>\n",
              "      <td>0</td>\n",
              "      <td>...</td>\n",
              "      <td>0</td>\n",
              "      <td>0</td>\n",
              "      <td>0</td>\n",
              "      <td>0</td>\n",
              "      <td>0</td>\n",
              "      <td>0</td>\n",
              "      <td>0</td>\n",
              "      <td>0</td>\n",
              "      <td>1</td>\n",
              "      <td>0</td>\n",
              "    </tr>\n",
              "    <tr>\n",
              "      <th>693067</th>\n",
              "      <td>23</td>\n",
              "      <td>1</td>\n",
              "      <td>12</td>\n",
              "      <td>9.5</td>\n",
              "      <td>1.00</td>\n",
              "      <td>1.0</td>\n",
              "      <td>37.05</td>\n",
              "      <td>37.05</td>\n",
              "      <td>0</td>\n",
              "      <td>0</td>\n",
              "      <td>...</td>\n",
              "      <td>0</td>\n",
              "      <td>0</td>\n",
              "      <td>0</td>\n",
              "      <td>0</td>\n",
              "      <td>0</td>\n",
              "      <td>0</td>\n",
              "      <td>0</td>\n",
              "      <td>1</td>\n",
              "      <td>0</td>\n",
              "      <td>0</td>\n",
              "    </tr>\n",
              "    <tr>\n",
              "      <th>693069</th>\n",
              "      <td>23</td>\n",
              "      <td>1</td>\n",
              "      <td>12</td>\n",
              "      <td>27.0</td>\n",
              "      <td>1.00</td>\n",
              "      <td>1.0</td>\n",
              "      <td>37.05</td>\n",
              "      <td>37.05</td>\n",
              "      <td>0</td>\n",
              "      <td>0</td>\n",
              "      <td>...</td>\n",
              "      <td>0</td>\n",
              "      <td>0</td>\n",
              "      <td>0</td>\n",
              "      <td>0</td>\n",
              "      <td>0</td>\n",
              "      <td>0</td>\n",
              "      <td>0</td>\n",
              "      <td>0</td>\n",
              "      <td>0</td>\n",
              "      <td>0</td>\n",
              "    </tr>\n",
              "    <tr>\n",
              "      <th>693070</th>\n",
              "      <td>23</td>\n",
              "      <td>1</td>\n",
              "      <td>12</td>\n",
              "      <td>10.0</td>\n",
              "      <td>1.00</td>\n",
              "      <td>1.0</td>\n",
              "      <td>37.05</td>\n",
              "      <td>37.05</td>\n",
              "      <td>0</td>\n",
              "      <td>0</td>\n",
              "      <td>...</td>\n",
              "      <td>0</td>\n",
              "      <td>0</td>\n",
              "      <td>0</td>\n",
              "      <td>0</td>\n",
              "      <td>0</td>\n",
              "      <td>0</td>\n",
              "      <td>1</td>\n",
              "      <td>0</td>\n",
              "      <td>0</td>\n",
              "      <td>0</td>\n",
              "    </tr>\n",
              "  </tbody>\n",
              "</table>\n",
              "<p>637976 rows × 42 columns</p>\n",
              "</div>\n",
              "    <div class=\"colab-df-buttons\">\n",
              "\n",
              "  <div class=\"colab-df-container\">\n",
              "    <button class=\"colab-df-convert\" onclick=\"convertToInteractive('df-912d91d9-0b7f-4744-be03-ede77d7f8d98')\"\n",
              "            title=\"Convert this dataframe to an interactive table.\"\n",
              "            style=\"display:none;\">\n",
              "\n",
              "  <svg xmlns=\"http://www.w3.org/2000/svg\" height=\"24px\" viewBox=\"0 -960 960 960\">\n",
              "    <path d=\"M120-120v-720h720v720H120Zm60-500h600v-160H180v160Zm220 220h160v-160H400v160Zm0 220h160v-160H400v160ZM180-400h160v-160H180v160Zm440 0h160v-160H620v160ZM180-180h160v-160H180v160Zm440 0h160v-160H620v160Z\"/>\n",
              "  </svg>\n",
              "    </button>\n",
              "\n",
              "  <style>\n",
              "    .colab-df-container {\n",
              "      display:flex;\n",
              "      gap: 12px;\n",
              "    }\n",
              "\n",
              "    .colab-df-convert {\n",
              "      background-color: #E8F0FE;\n",
              "      border: none;\n",
              "      border-radius: 50%;\n",
              "      cursor: pointer;\n",
              "      display: none;\n",
              "      fill: #1967D2;\n",
              "      height: 32px;\n",
              "      padding: 0 0 0 0;\n",
              "      width: 32px;\n",
              "    }\n",
              "\n",
              "    .colab-df-convert:hover {\n",
              "      background-color: #E2EBFA;\n",
              "      box-shadow: 0px 1px 2px rgba(60, 64, 67, 0.3), 0px 1px 3px 1px rgba(60, 64, 67, 0.15);\n",
              "      fill: #174EA6;\n",
              "    }\n",
              "\n",
              "    .colab-df-buttons div {\n",
              "      margin-bottom: 4px;\n",
              "    }\n",
              "\n",
              "    [theme=dark] .colab-df-convert {\n",
              "      background-color: #3B4455;\n",
              "      fill: #D2E3FC;\n",
              "    }\n",
              "\n",
              "    [theme=dark] .colab-df-convert:hover {\n",
              "      background-color: #434B5C;\n",
              "      box-shadow: 0px 1px 3px 1px rgba(0, 0, 0, 0.15);\n",
              "      filter: drop-shadow(0px 1px 2px rgba(0, 0, 0, 0.3));\n",
              "      fill: #FFFFFF;\n",
              "    }\n",
              "  </style>\n",
              "\n",
              "    <script>\n",
              "      const buttonEl =\n",
              "        document.querySelector('#df-912d91d9-0b7f-4744-be03-ede77d7f8d98 button.colab-df-convert');\n",
              "      buttonEl.style.display =\n",
              "        google.colab.kernel.accessAllowed ? 'block' : 'none';\n",
              "\n",
              "      async function convertToInteractive(key) {\n",
              "        const element = document.querySelector('#df-912d91d9-0b7f-4744-be03-ede77d7f8d98');\n",
              "        const dataTable =\n",
              "          await google.colab.kernel.invokeFunction('convertToInteractive',\n",
              "                                                    [key], {});\n",
              "        if (!dataTable) return;\n",
              "\n",
              "        const docLinkHtml = 'Like what you see? Visit the ' +\n",
              "          '<a target=\"_blank\" href=https://colab.research.google.com/notebooks/data_table.ipynb>data table notebook</a>'\n",
              "          + ' to learn more about interactive tables.';\n",
              "        element.innerHTML = '';\n",
              "        dataTable['output_type'] = 'display_data';\n",
              "        await google.colab.output.renderOutput(dataTable, element);\n",
              "        const docLink = document.createElement('div');\n",
              "        docLink.innerHTML = docLinkHtml;\n",
              "        element.appendChild(docLink);\n",
              "      }\n",
              "    </script>\n",
              "  </div>\n",
              "\n",
              "\n",
              "<div id=\"df-84565528-1cf9-4af2-8005-7cc5a516ccd0\">\n",
              "  <button class=\"colab-df-quickchart\" onclick=\"quickchart('df-84565528-1cf9-4af2-8005-7cc5a516ccd0')\"\n",
              "            title=\"Suggest charts.\"\n",
              "            style=\"display:none;\">\n",
              "\n",
              "<svg xmlns=\"http://www.w3.org/2000/svg\" height=\"24px\"viewBox=\"0 0 24 24\"\n",
              "     width=\"24px\">\n",
              "    <g>\n",
              "        <path d=\"M19 3H5c-1.1 0-2 .9-2 2v14c0 1.1.9 2 2 2h14c1.1 0 2-.9 2-2V5c0-1.1-.9-2-2-2zM9 17H7v-7h2v7zm4 0h-2V7h2v10zm4 0h-2v-4h2v4z\"/>\n",
              "    </g>\n",
              "</svg>\n",
              "  </button>\n",
              "\n",
              "<style>\n",
              "  .colab-df-quickchart {\n",
              "      --bg-color: #E8F0FE;\n",
              "      --fill-color: #1967D2;\n",
              "      --hover-bg-color: #E2EBFA;\n",
              "      --hover-fill-color: #174EA6;\n",
              "      --disabled-fill-color: #AAA;\n",
              "      --disabled-bg-color: #DDD;\n",
              "  }\n",
              "\n",
              "  [theme=dark] .colab-df-quickchart {\n",
              "      --bg-color: #3B4455;\n",
              "      --fill-color: #D2E3FC;\n",
              "      --hover-bg-color: #434B5C;\n",
              "      --hover-fill-color: #FFFFFF;\n",
              "      --disabled-bg-color: #3B4455;\n",
              "      --disabled-fill-color: #666;\n",
              "  }\n",
              "\n",
              "  .colab-df-quickchart {\n",
              "    background-color: var(--bg-color);\n",
              "    border: none;\n",
              "    border-radius: 50%;\n",
              "    cursor: pointer;\n",
              "    display: none;\n",
              "    fill: var(--fill-color);\n",
              "    height: 32px;\n",
              "    padding: 0;\n",
              "    width: 32px;\n",
              "  }\n",
              "\n",
              "  .colab-df-quickchart:hover {\n",
              "    background-color: var(--hover-bg-color);\n",
              "    box-shadow: 0 1px 2px rgba(60, 64, 67, 0.3), 0 1px 3px 1px rgba(60, 64, 67, 0.15);\n",
              "    fill: var(--button-hover-fill-color);\n",
              "  }\n",
              "\n",
              "  .colab-df-quickchart-complete:disabled,\n",
              "  .colab-df-quickchart-complete:disabled:hover {\n",
              "    background-color: var(--disabled-bg-color);\n",
              "    fill: var(--disabled-fill-color);\n",
              "    box-shadow: none;\n",
              "  }\n",
              "\n",
              "  .colab-df-spinner {\n",
              "    border: 2px solid var(--fill-color);\n",
              "    border-color: transparent;\n",
              "    border-bottom-color: var(--fill-color);\n",
              "    animation:\n",
              "      spin 1s steps(1) infinite;\n",
              "  }\n",
              "\n",
              "  @keyframes spin {\n",
              "    0% {\n",
              "      border-color: transparent;\n",
              "      border-bottom-color: var(--fill-color);\n",
              "      border-left-color: var(--fill-color);\n",
              "    }\n",
              "    20% {\n",
              "      border-color: transparent;\n",
              "      border-left-color: var(--fill-color);\n",
              "      border-top-color: var(--fill-color);\n",
              "    }\n",
              "    30% {\n",
              "      border-color: transparent;\n",
              "      border-left-color: var(--fill-color);\n",
              "      border-top-color: var(--fill-color);\n",
              "      border-right-color: var(--fill-color);\n",
              "    }\n",
              "    40% {\n",
              "      border-color: transparent;\n",
              "      border-right-color: var(--fill-color);\n",
              "      border-top-color: var(--fill-color);\n",
              "    }\n",
              "    60% {\n",
              "      border-color: transparent;\n",
              "      border-right-color: var(--fill-color);\n",
              "    }\n",
              "    80% {\n",
              "      border-color: transparent;\n",
              "      border-right-color: var(--fill-color);\n",
              "      border-bottom-color: var(--fill-color);\n",
              "    }\n",
              "    90% {\n",
              "      border-color: transparent;\n",
              "      border-bottom-color: var(--fill-color);\n",
              "    }\n",
              "  }\n",
              "</style>\n",
              "\n",
              "  <script>\n",
              "    async function quickchart(key) {\n",
              "      const quickchartButtonEl =\n",
              "        document.querySelector('#' + key + ' button');\n",
              "      quickchartButtonEl.disabled = true;  // To prevent multiple clicks.\n",
              "      quickchartButtonEl.classList.add('colab-df-spinner');\n",
              "      try {\n",
              "        const charts = await google.colab.kernel.invokeFunction(\n",
              "            'suggestCharts', [key], {});\n",
              "      } catch (error) {\n",
              "        console.error('Error during call to suggestCharts:', error);\n",
              "      }\n",
              "      quickchartButtonEl.classList.remove('colab-df-spinner');\n",
              "      quickchartButtonEl.classList.add('colab-df-quickchart-complete');\n",
              "    }\n",
              "    (() => {\n",
              "      let quickchartButtonEl =\n",
              "        document.querySelector('#df-84565528-1cf9-4af2-8005-7cc5a516ccd0 button');\n",
              "      quickchartButtonEl.style.display =\n",
              "        google.colab.kernel.accessAllowed ? 'block' : 'none';\n",
              "    })();\n",
              "  </script>\n",
              "</div>\n",
              "    </div>\n",
              "  </div>\n"
            ]
          },
          "metadata": {},
          "execution_count": 24
        }
      ]
    },
    {
      "cell_type": "markdown",
      "source": [
        "## Split the dataset into train, validation and test dataset"
      ],
      "metadata": {
        "id": "Oq5lnOmuw4Ff"
      }
    },
    {
      "cell_type": "code",
      "source": [
        "import sklearn\n",
        "from sklearn.preprocessing import MinMaxScaler, StandardScaler\n",
        "from sklearn.model_selection import train_test_split, GridSearchCV, KFold\n",
        "from sklearn.linear_model import LinearRegression, Ridge, Lasso\n",
        "\n",
        "from sklearn.feature_selection import RFE\n",
        "from sklearn.metrics import r2_score\n",
        "from sklearn.metrics import mean_squared_error"
      ],
      "metadata": {
        "id": "-3pTuoDiw25e"
      },
      "execution_count": 25,
      "outputs": []
    },
    {
      "cell_type": "code",
      "source": [
        "df_train, df_test = train_test_split(rides_data, train_size=0.9, random_state = 100)"
      ],
      "metadata": {
        "id": "46fcKzCawxrt"
      },
      "execution_count": 26,
      "outputs": []
    },
    {
      "cell_type": "code",
      "source": [
        "print(\"train data size ->\", df_train.shape)\n",
        "print(\"test data size ->\", df_test.shape)"
      ],
      "metadata": {
        "colab": {
          "base_uri": "https://localhost:8080/"
        },
        "id": "aBWRdcxHw_02",
        "outputId": "ba8a1a3d-7eea-4e96-decf-bed2fcd38cae"
      },
      "execution_count": 27,
      "outputs": [
        {
          "output_type": "stream",
          "name": "stdout",
          "text": [
            "train data size -> (574178, 42)\n",
            "test data size -> (63798, 42)\n"
          ]
        }
      ]
    },
    {
      "cell_type": "code",
      "source": [
        "y_train = df_train.pop('price')\n",
        "X_train = df_train\n",
        "y_test = df_test.pop('price')\n",
        "X_test = df_test"
      ],
      "metadata": {
        "id": "l8dAigPvxB5c"
      },
      "execution_count": 28,
      "outputs": []
    },
    {
      "cell_type": "code",
      "source": [
        "# X_train.head()"
      ],
      "metadata": {
        "id": "b8v1aDF4oJJ4"
      },
      "execution_count": 29,
      "outputs": []
    },
    {
      "cell_type": "code",
      "source": [
        "# X_train = X_train.sort_index()\n"
      ],
      "metadata": {
        "id": "hBvnMFvBpC-Y"
      },
      "execution_count": 30,
      "outputs": []
    },
    {
      "cell_type": "code",
      "source": [
        "# X_train.loc[0]"
      ],
      "metadata": {
        "id": "nibIN6r_qqUy"
      },
      "execution_count": 31,
      "outputs": []
    },
    {
      "cell_type": "code",
      "source": [
        "# X_train.shape"
      ],
      "metadata": {
        "id": "WnrOTDhLofE5"
      },
      "execution_count": 32,
      "outputs": []
    },
    {
      "cell_type": "code",
      "source": [
        "# X_train_np = np.array(X_train.values)\n",
        "# y_train_np = np.array(y_train.values)"
      ],
      "metadata": {
        "id": "LgLUZ2_En0LU"
      },
      "execution_count": 33,
      "outputs": []
    },
    {
      "cell_type": "code",
      "source": [
        "# X_train_np[0]"
      ],
      "metadata": {
        "id": "pOsdIyd-oLps"
      },
      "execution_count": 34,
      "outputs": []
    },
    {
      "cell_type": "markdown",
      "source": [
        "#Model Pipeline\n",
        "\n",
        "\n",
        "1.   Model data preprocessing\n",
        "2.   Model build and compile\n",
        "3.   Model Training\n",
        "4.   Model Evaluation and learning curves"
      ],
      "metadata": {
        "id": "zk6OBzLSqGzy"
      }
    },
    {
      "cell_type": "markdown",
      "source": [
        "##Sklearn Linear Regression with One feature\n",
        "\n"
      ],
      "metadata": {
        "id": "BfTgNOdNocog"
      }
    },
    {
      "cell_type": "code",
      "source": [
        "from sklearn import datasets, linear_model\n",
        "from sklearn.metrics import mean_squared_error, r2_score\n",
        "\n",
        "# Use only one feature\n",
        "X_train_np = np.array(X_train[['distance']].values)\n",
        "X_test_np = np.array(X_test[['distance']].values)\n",
        "\n",
        "# Create linear regression object\n",
        "regr = linear_model.LinearRegression()\n",
        "\n",
        "# Train the model using the training sets\n",
        "regr.fit(X_train_np, y_train)\n",
        "\n",
        "# Make predictions using the testing set\n",
        "y_pred = regr.predict(X_test_np)\n",
        "\n",
        "# Plot outputs\n",
        "plt.scatter(X_test_np, y_test)\n",
        "plt.scatter(X_test_np, y_pred, color=\"red\")\n",
        "\n",
        "plt.xticks(())\n",
        "plt.yticks(())\n",
        "\n",
        "plt.show()"
      ],
      "metadata": {
        "colab": {
          "base_uri": "https://localhost:8080/",
          "height": 406
        },
        "id": "kkTPdGtaAYxS",
        "outputId": "779356cb-7d09-4fda-e1db-3723a5da1d5b"
      },
      "execution_count": 35,
      "outputs": [
        {
          "output_type": "display_data",
          "data": {
            "text/plain": [
              "<Figure size 640x480 with 1 Axes>"
            ],
            "image/png": "[encoded data removed]"
          },
          "metadata": {}
        }
      ]
    },
    {
      "cell_type": "markdown",
      "source": [
        "##Sklearn Polynomial Regression with One feature\n",
        "\n",
        "\n",
        "1.   Model data preprocessing\n",
        "2.   Model build and compile\n",
        "3.   Model Training\n",
        "4.   Model Evaluation and learning curves\n",
        "\n"
      ],
      "metadata": {
        "id": "7FHE3rxgozZ9"
      }
    },
    {
      "cell_type": "code",
      "source": [
        "from sklearn.preprocessing import PolynomialFeatures\n",
        "poly = PolynomialFeatures(degree=15, include_bias=False)\n",
        "a = poly.fit_transform(np.array(X_train[['distance']].values))"
      ],
      "metadata": {
        "id": "j0RtC4zDwraO"
      },
      "execution_count": 36,
      "outputs": []
    },
    {
      "cell_type": "code",
      "source": [
        "import matplotlib.pyplot as plt\n",
        "import numpy as np\n",
        "\n",
        "from sklearn import datasets, linear_model\n",
        "from sklearn.metrics import mean_squared_error, r2_score\n",
        "\n",
        "\n",
        "# Use only one feature\n",
        "X_train_np = poly.fit_transform(np.array(X_train[['distance']].values))\n",
        "X_test_np = poly.fit_transform(np.array(X_test[['distance']].values))\n",
        "\n",
        "# Apply linear regression model on polynomial features\n",
        "polyregr = linear_model.LinearRegression()\n",
        "\n",
        "# Train the model using the training sets\n",
        "polyregr.fit(X_train_np, y_train)\n",
        "\n",
        "# Make predictions using the testing set\n",
        "y_pred = polyregr.predict(X_test_np)\n",
        "\n",
        "# Plot outputs\n",
        "plt.scatter(np.array(X_test[['distance']].values), y_test)\n",
        "plt.scatter(np.array(X_test[['distance']].values), y_pred, color=\"red\")\n",
        "\n",
        "plt.xticks(())\n",
        "plt.yticks(())\n",
        "\n",
        "plt.show()"
      ],
      "metadata": {
        "id": "WOcDKYq__SeP",
        "colab": {
          "base_uri": "https://localhost:8080/",
          "height": 406
        },
        "outputId": "550867a3-f11a-44f5-a5a4-471144bc436c"
      },
      "execution_count": 37,
      "outputs": [
        {
          "output_type": "display_data",
          "data": {
            "text/plain": [
              "<Figure size 640x480 with 1 Axes>"
            ],
            "image/png": "[encoded data removed]"
          },
          "metadata": {}
        }
      ]
    },
    {
      "cell_type": "markdown",
      "source": [
        "##Sklearn Linear Regression with all feature\n",
        "\n",
        "\n",
        "1.   Model data preprocessing\n",
        "2.   Model build and compile\n",
        "3.   Model Training\n",
        "4.   Model Evaluation and learning curves"
      ],
      "metadata": {
        "id": "MYIF8rMFprQ_"
      }
    },
    {
      "cell_type": "code",
      "source": [
        "\n",
        "import matplotlib.pyplot as plt\n",
        "import numpy as np\n",
        "\n",
        "from sklearn import datasets, linear_model\n",
        "from sklearn.metrics import mean_squared_error, r2_score\n",
        "\n",
        "\n",
        "# Use all features\n",
        "X_train_np = np.array(X_train.values)\n",
        "X_test_np = np.array(X_test.values)\n",
        "\n",
        "# Create linear regression model\n",
        "regr = linear_model.LinearRegression()\n",
        "\n",
        "# Train the model using the training sets\n",
        "regr.fit(X_train_np, y_train)\n",
        "\n",
        "# Make predictions using the testing set\n",
        "y_pred_test = regr.predict(X_test_np)\n",
        "\n",
        "R2 = r2_score(y_test, y_pred_test)\n",
        "print(\"R2 value for linear regression model for test dataset:  =\",R2 )\n",
        "\n",
        "mse_value_linear = mean_squared_error(y_test.values, y_pred_test)\n",
        "print(\"MSE value for linear regression model for test dataset:\", mse_value_linear)\n",
        "\n",
        "rmse_value_linear = mse_value_linear**0.5\n",
        "print(\"RMSE value for linear regression model for test dataset:\", rmse_value_linear)\n",
        "\n",
        "# Plot outputs\n",
        "plt.figure(figsize = (6, 4))\n",
        "plt.scatter(x=y_test, y=y_pred_test)\n",
        "plt.scatter(x=y_test, y=y_test, color='r')\n",
        "plt.xlabel('Actual Points (y_test)', fontdict={'fontsize': 10})\n",
        "plt.ylabel('Predicted Points (y_pred)', fontdict={'fontsize': 10})"
      ],
      "metadata": {
        "colab": {
          "base_uri": "https://localhost:8080/",
          "height": 459
        },
        "id": "n7--f3hdpq6r",
        "outputId": "d0d1ee94-a869-43eb-ffaf-422abb2d4ca1"
      },
      "execution_count": 38,
      "outputs": [
        {
          "output_type": "stream",
          "name": "stdout",
          "text": [
            "R2 value for linear regression model for test dataset:  = 0.9265569174540507\n",
            "MSE value for linear regression model for test dataset: 6.367494835816448\n",
            "RMSE value for linear regression model for test dataset: 2.5233895529260733\n"
          ]
        },
        {
          "output_type": "execute_result",
          "data": {
            "text/plain": [
              "Text(0, 0.5, 'Predicted Points (y_pred)')"
            ]
          },
          "metadata": {},
          "execution_count": 38
        },
        {
          "output_type": "display_data",
          "data": {
            "text/plain": [
              "<Figure size 600x400 with 1 Axes>"
            ],
            "image/png": "[encoded data removed]"
          },
          "metadata": {}
        }
      ]
    },
    {
      "cell_type": "markdown",
      "source": [
        "##Sklearn Polynomial Regression with all feature\n",
        "\n",
        "distance and surge_multipler attributes are used to develop polynomial features with degree of 15.  "
      ],
      "metadata": {
        "id": "R7PkH6nwpEpf"
      }
    },
    {
      "cell_type": "code",
      "source": [
        "from sklearn.preprocessing import PolynomialFeatures\n",
        "from sklearn.linear_model import LinearRegression\n",
        "\n",
        "poly = PolynomialFeatures(degree=15, include_bias=False)\n",
        "X_train_features = poly.fit_transform(np.array(X_train[['distance','surge_multiplier']].values))\n",
        "X_test_features = poly.fit_transform(np.array(X_test[['distance','surge_multiplier']].values))\n"
      ],
      "metadata": {
        "id": "fQYVoiBJrl7F"
      },
      "execution_count": 39,
      "outputs": []
    },
    {
      "cell_type": "code",
      "source": [
        "X_train_new = X_train.drop(['distance','surge_multiplier'], axis=1)\n",
        "X_test_new = X_test.drop(['distance','surge_multiplier'], axis=1)"
      ],
      "metadata": {
        "id": "gnV49T34tDFT"
      },
      "execution_count": 40,
      "outputs": []
    },
    {
      "cell_type": "code",
      "source": [
        "X_train_rest = np.array(X_train_new.values)\n",
        "X_test_rest = np.array(X_test_new.values)"
      ],
      "metadata": {
        "id": "QyI8t9IAtp_7"
      },
      "execution_count": 41,
      "outputs": []
    },
    {
      "cell_type": "code",
      "source": [
        "X_train_poly = np.concatenate((X_train_features, X_train_rest), axis=1)\n",
        "X_test_poly =  np.concatenate((X_test_features, X_test_rest), axis=1)"
      ],
      "metadata": {
        "id": "fCeF8aOSuBTm"
      },
      "execution_count": 42,
      "outputs": []
    },
    {
      "cell_type": "code",
      "source": [
        "X_train_poly.shape\n",
        "#X_test_poly.shape"
      ],
      "metadata": {
        "colab": {
          "base_uri": "https://localhost:8080/"
        },
        "id": "m8HBTWtkvU5_",
        "outputId": "5488702e-9579-4e82-95e4-e86b885d10c9"
      },
      "execution_count": 43,
      "outputs": [
        {
          "output_type": "execute_result",
          "data": {
            "text/plain": [
              "(574178, 174)"
            ]
          },
          "metadata": {},
          "execution_count": 43
        }
      ]
    },
    {
      "cell_type": "code",
      "source": [
        "\n",
        "import matplotlib.pyplot as plt\n",
        "import numpy as np\n",
        "\n",
        "from sklearn import datasets, linear_model\n",
        "from sklearn.metrics import mean_squared_error, r2_score\n",
        "\n",
        "\n",
        "# Use polynomial features\n",
        "X_train_np = X_train_poly\n",
        "X_test_np = X_test_poly\n",
        "\n",
        "# Apply linear regression on polynomial features\n",
        "regr = linear_model.LinearRegression()\n",
        "\n",
        "# Train the model using the training sets\n",
        "regr.fit(X_train_np, y_train)\n",
        "\n",
        "# Make predictions using the testing set\n",
        "y_pred_test = regr.predict(X_test_np)\n",
        "\n",
        "R2 = r2_score(y_test, y_pred_test)\n",
        "print(\"R2 value for polynomial model for test dataset:  =\",R2 )\n",
        "\n",
        "mse_value_poly = mean_squared_error(y_test.values, y_pred_test)\n",
        "print(\"MSE value for polynomial model for test dataset:\", mse_value_poly)\n",
        "\n",
        "rmse_value_poly = mse_value_poly**0.5\n",
        "print(\"RMSE value for polynomial model for test dataset:\", rmse_value_poly)\n",
        "\n",
        "# Plot outputs\n",
        "plt.figure(figsize = (6, 4))\n",
        "plt.scatter(x=y_test, y=y_pred_test)\n",
        "plt.scatter(x=y_test, y=y_test, color='r')\n",
        "plt.xlabel('Actual Points (y_test)', fontdict={'fontsize': 10})\n",
        "plt.ylabel('Predicted Points (y_pred)', fontdict={'fontsize': 10})"
      ],
      "metadata": {
        "colab": {
          "base_uri": "https://localhost:8080/",
          "height": 459
        },
        "id": "d2cZ313Wrfcd",
        "outputId": "48f1228d-7255-491c-8251-f2fd636528ca"
      },
      "execution_count": 44,
      "outputs": [
        {
          "output_type": "stream",
          "name": "stdout",
          "text": [
            "R2 value for polynomial model for test dataset:  = 0.9321379029236434\n",
            "MSE value for polynomial model for test dataset: 5.883624947400958\n",
            "RMSE value for polynomial model for test dataset: 2.425618466989596\n"
          ]
        },
        {
          "output_type": "execute_result",
          "data": {
            "text/plain": [
              "Text(0, 0.5, 'Predicted Points (y_pred)')"
            ]
          },
          "metadata": {},
          "execution_count": 44
        },
        {
          "output_type": "display_data",
          "data": {
            "text/plain": [
              "<Figure size 600x400 with 1 Axes>"
            ],
            "image/png": "[encoded data removed]"
          },
          "metadata": {}
        }
      ]
    },
    {
      "cell_type": "markdown",
      "source": [
        "##Sklearn Elastic Regression with all feature\n"
      ],
      "metadata": {
        "id": "QtJ49dWCVeq4"
      }
    },
    {
      "cell_type": "code",
      "source": [
        "\n",
        "# Use Polynomial features\n",
        "X_train_np = X_train_poly\n",
        "X_test_np = X_test_poly\n",
        "\n",
        "\n",
        "# Create Elastric Regression Model\n",
        "elasticregr = ElasticNet(alpha = 0.001, random_state=0)\n",
        "\n",
        "# Train the model using the training sets\n",
        "elasticregr.fit(X_train_np, y_train)\n",
        "\n",
        "# Make predictions using the testing set\n",
        "y_pred_test = elasticregr.predict(X_test_np)\n",
        "\n",
        "R2 = r2_score(y_test, y_pred_test)\n",
        "print(\"R2 value for ElasticNet model for test dataset:  =\",R2 )\n",
        "\n",
        "mse_value_elastic = mean_squared_error(y_test.values, y_pred_test)\n",
        "print(\"MSE value for ElasticNet model for test dataset:\", mse_value_elastic)\n",
        "\n",
        "rmse_value_elastic = mse_value_elastic**0.5\n",
        "print(\"RMSE value for ElasticNet model for test dataset:\", rmse_value_elastic)\n",
        "\n",
        "# Plot outputs\n",
        "plt.figure(figsize = (6, 4))\n",
        "plt.scatter(x=y_test, y=y_pred_test)\n",
        "plt.scatter(x=y_test, y=y_test, color='r')\n",
        "plt.xlabel('Actual Points (y_test)', fontdict={'fontsize': 10})\n",
        "plt.ylabel('Predicted Points (y_pred)', fontdict={'fontsize': 10})"
      ],
      "metadata": {
        "colab": {
          "base_uri": "https://localhost:8080/",
          "height": 514
        },
        "id": "EnJW9QJ7Vdgi",
        "outputId": "27034981-3c39-48a4-f1ed-d90ef353e260"
      },
      "execution_count": 45,
      "outputs": [
        {
          "output_type": "stream",
          "name": "stdout",
          "text": [
            "R2 value for ElasticNet model for test dataset:  = 0.9316072824279593\n",
            "MSE value for ElasticNet model for test dataset: 5.929629596837239\n",
            "RMSE value for ElasticNet model for test dataset: 2.435083078015458\n"
          ]
        },
        {
          "output_type": "stream",
          "name": "stderr",
          "text": [
            "/usr/local/lib/python3.10/dist-packages/sklearn/linear_model/_coordinate_descent.py:631: ConvergenceWarning: Objective did not converge. You might want to increase the number of iterations, check the scale of the features or consider increasing regularisation. Duality gap: 1.821e+06, tolerance: 4.994e+03\n",
            "  model = cd_fast.enet_coordinate_descent(\n"
          ]
        },
        {
          "output_type": "execute_result",
          "data": {
            "text/plain": [
              "Text(0, 0.5, 'Predicted Points (y_pred)')"
            ]
          },
          "metadata": {},
          "execution_count": 45
        },
        {
          "output_type": "display_data",
          "data": {
            "text/plain": [
              "<Figure size 600x400 with 1 Axes>"
            ],
            "image/png": "[encoded data removed]"
          },
          "metadata": {}
        }
      ]
    },
    {
      "cell_type": "markdown",
      "source": [
        "##TF Regression with NN + all feature\n",
        "\n",
        "\n",
        "1.   Model data preprocessing\n",
        "2.   Model build and compile\n",
        "3.   Model Training\n",
        "4.   Model Evaluation and learning curves"
      ],
      "metadata": {
        "id": "lzl7nee6y118"
      }
    },
    {
      "cell_type": "code",
      "source": [
        "import tensorflow as tf\n",
        "from tensorflow import keras\n",
        "from tensorflow.keras import layers, Sequential, optimizers\n",
        "from tensorflow.keras.layers import Dense\n",
        "\n",
        "tf.random.set_seed(57)"
      ],
      "metadata": {
        "id": "dhJCJmz5xOuI"
      },
      "execution_count": 46,
      "outputs": []
    },
    {
      "cell_type": "code",
      "source": [
        "#Neural Network Model with\n",
        "model=Sequential()\n",
        "model.add(Dense(12,activation='relu',input_dim= X_train.shape[1]))\n",
        "model.add(Dense(45,activation='relu'))\n",
        "model.add(Dense(25,activation='relu'))\n",
        "model.add(Dense(1,activation='linear'))\n",
        "\n",
        "model.compile(optimizer='adam', loss='mse', metrics=['mse'])"
      ],
      "metadata": {
        "id": "jc4ln6KOy9f-"
      },
      "execution_count": 47,
      "outputs": []
    },
    {
      "cell_type": "code",
      "source": [
        "epochs=15\n",
        "history = model.fit(\n",
        "    np.array(X_train.values),y_train,\n",
        "    epochs=epochs,\n",
        "    validation_split=0.2,\n",
        "    batch_size=128\n",
        ")"
      ],
      "metadata": {
        "colab": {
          "base_uri": "https://localhost:8080/"
        },
        "id": "6H8J1EWlzAQk",
        "outputId": "990361ec-496c-4e31-acd3-aa55ab35047d"
      },
      "execution_count": 48,
      "outputs": [
        {
          "output_type": "stream",
          "name": "stdout",
          "text": [
            "Epoch 1/15\n",
            "3589/3589 [==============================] - 11s 3ms/step - loss: 17.2724 - mse: 17.2724 - val_loss: 4.2707 - val_mse: 4.2707\n",
            "Epoch 2/15\n",
            "3589/3589 [==============================] - 8s 2ms/step - loss: 4.1350 - mse: 4.1350 - val_loss: 3.9578 - val_mse: 3.9578\n",
            "Epoch 3/15\n",
            "3589/3589 [==============================] - 9s 3ms/step - loss: 3.9464 - mse: 3.9464 - val_loss: 3.8782 - val_mse: 3.8782\n",
            "Epoch 4/15\n",
            "3589/3589 [==============================] - 10s 3ms/step - loss: 3.8453 - mse: 3.8453 - val_loss: 3.7105 - val_mse: 3.7105\n",
            "Epoch 5/15\n",
            "3589/3589 [==============================] - 8s 2ms/step - loss: 3.7774 - mse: 3.7774 - val_loss: 3.6401 - val_mse: 3.6401\n",
            "Epoch 6/15\n",
            "3589/3589 [==============================] - 9s 3ms/step - loss: 3.7235 - mse: 3.7235 - val_loss: 3.5703 - val_mse: 3.5703\n",
            "Epoch 7/15\n",
            "3589/3589 [==============================] - 9s 3ms/step - loss: 3.6429 - mse: 3.6429 - val_loss: 3.5776 - val_mse: 3.5776\n",
            "Epoch 8/15\n",
            "3589/3589 [==============================] - 9s 3ms/step - loss: 3.5961 - mse: 3.5961 - val_loss: 3.4869 - val_mse: 3.4869\n",
            "Epoch 9/15\n",
            "3589/3589 [==============================] - 8s 2ms/step - loss: 3.5298 - mse: 3.5298 - val_loss: 3.5961 - val_mse: 3.5961\n",
            "Epoch 10/15\n",
            "3589/3589 [==============================] - 10s 3ms/step - loss: 3.4544 - mse: 3.4544 - val_loss: 3.3321 - val_mse: 3.3321\n",
            "Epoch 11/15\n",
            "3589/3589 [==============================] - 11s 3ms/step - loss: 3.3940 - mse: 3.3940 - val_loss: 3.4242 - val_mse: 3.4242\n",
            "Epoch 12/15\n",
            "3589/3589 [==============================] - 8s 2ms/step - loss: 3.3415 - mse: 3.3415 - val_loss: 3.4983 - val_mse: 3.4983\n",
            "Epoch 13/15\n",
            "3589/3589 [==============================] - 9s 3ms/step - loss: 3.3255 - mse: 3.3255 - val_loss: 3.2771 - val_mse: 3.2771\n",
            "Epoch 14/15\n",
            "3589/3589 [==============================] - 9s 3ms/step - loss: 3.2932 - mse: 3.2932 - val_loss: 3.4217 - val_mse: 3.4217\n",
            "Epoch 15/15\n",
            "3589/3589 [==============================] - 8s 2ms/step - loss: 3.2775 - mse: 3.2775 - val_loss: 3.3558 - val_mse: 3.3558\n"
          ]
        }
      ]
    },
    {
      "cell_type": "code",
      "source": [
        "y_pred_test = model.predict(np.array(X_test.values))\n",
        "R2 = r2_score(y_test, y_pred_test)\n",
        "print(\"R2 value for NN model for test dataset:  =\",R2 )\n",
        "\n",
        "mse_value_NN = mean_squared_error(y_test.values, y_pred_test)\n",
        "print(\"MSE value for NN model for test dataset:\", mse_value_NN)\n",
        "\n",
        "rmse_value_NN = mse_value_NN**0.5\n",
        "print(\"RMSE value for NN model for test dataset:\", rmse_value_NN)"
      ],
      "metadata": {
        "colab": {
          "base_uri": "https://localhost:8080/"
        },
        "id": "dGnZamBUzdIS",
        "outputId": "e23fe1f8-d5a5-4cd4-d705-91b585cd47d2"
      },
      "execution_count": 49,
      "outputs": [
        {
          "output_type": "stream",
          "name": "stdout",
          "text": [
            "1994/1994 [==============================] - 3s 1ms/step\n",
            "R2 value for NN model for test dataset:  = 0.9605874787190688\n",
            "MSE value for NN model for test dataset: 3.417054636368563\n",
            "RMSE value for NN model for test dataset: 1.8485276942390025\n"
          ]
        }
      ]
    },
    {
      "cell_type": "code",
      "source": [
        "plt.figure(figsize = (6, 4))\n",
        "plt.scatter(x=y_test, y=y_pred_test)\n",
        "plt.scatter(x=y_test, y=y_test, color='r')\n",
        "plt.xlabel('Actual Points (y_test)', fontdict={'fontsize': 10})\n",
        "plt.ylabel('Predicted Points (y_pred)', fontdict={'fontsize': 10})"
      ],
      "metadata": {
        "colab": {
          "base_uri": "https://localhost:8080/",
          "height": 406
        },
        "id": "KilzWci0zgB5",
        "outputId": "a17c535a-db61-4768-aa07-45ae5531aa03"
      },
      "execution_count": 50,
      "outputs": [
        {
          "output_type": "execute_result",
          "data": {
            "text/plain": [
              "Text(0, 0.5, 'Predicted Points (y_pred)')"
            ]
          },
          "metadata": {},
          "execution_count": 50
        },
        {
          "output_type": "display_data",
          "data": {
            "text/plain": [
              "<Figure size 600x400 with 1 Axes>"
            ],
            "image/png": "[encoded data removed]"
          },
          "metadata": {}
        }
      ]
    },
    {
      "cell_type": "markdown",
      "source": [
        "#References\n",
        "1. Kaggle Code: Uber and Lyft Dataset NN - vaibhav007 - [Link](https://www.kaggle.com/code/vaibhavkumbhar/uber-and-lyft-dataset-nn)\n",
        "2. BM, Uber and Lyft Dataset Boston, MA [Link](https://www.kaggle.com/datasets/brllrb/uber-and-lyft-dataset-boston-ma)"
      ],
      "metadata": {
        "id": "tgbnDnSbMF91"
      }
    }
  ]
}